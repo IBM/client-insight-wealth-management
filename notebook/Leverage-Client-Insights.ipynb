{
 "cells": [
  {
   "cell_type": "markdown",
   "metadata": {},
   "source": [
    "<a id='top'></a>\n",
    "# How to Leverage *Client Insights for Wealth Management*\n",
    "\n",
    "This notebook uses sample data to illustrate the types of results and information available in Client Insights for Wealth Management to assist advisors in preparing for an upcoming meeting with an existing client.  We'll look at various common advisor activities such as:\n",
    "* preparing to defend the relationship from a potential request to leave for another advisor\n",
    "* preparing products and recommendations ahead of a meeting by gaining insights into the client's recent or impending life changes \n",
    "* identifying cross-sell and up-sell opportunities by reviewing existing product ownership and service provision / subscription augmented by leads from the analytics\n",
    "* benchmarking the client, enabling the provision of typical actions, events and holdings of \"similar\" clients by identifying the customer's segment \n",
    "\n",
    "This information can also assist an advisor in preparing for the meeting by identifying potential new requirements or changes to existing requirements, and by providing a more personal touch through more detailed knowledge of recent events in the client's life or financial status."
   ]
  },
  {
   "cell_type": "markdown",
   "metadata": {},
   "source": [
    "### Contents\n",
    "* <a href=\"#env\">Set-up the environment</a>\n",
    "* <a href=\"#profile\">Retrieve the complete client profile</a>\n",
    "* <a href=\"#basic\">Understand basic client information</a>\n",
    "* <a href=\"#leave\">Retain clients - propensity for attrition</a>\n",
    "* <a href=\"#product\">Assess needs by product</a>\n",
    "* <a href=\"#life\">Identify upcoming life events</a>\n",
    "* <a href=\"#segment\">Segment clients</a>\n",
    "* <a href=\"#why\">Determine underlying reasons</a>\n",
    "* <a href=\"#trend\">Gain perspective</a>"
   ]
  },
  {
   "cell_type": "markdown",
   "metadata": {},
   "source": [
    "<a id='env'></a>\n",
    "### Set-up the environment\n",
    "\n",
    "Load key modules that we'll use to keep track of time and interact with the REST API, specify the API_KEY for the service and set key parameters."
   ]
  },
  {
   "cell_type": "code",
   "execution_count": 1,
   "metadata": {},
   "outputs": [],
   "source": [
    "import requests\n",
    "import time\n",
    "import json\n",
    "from pandas.io.json import json_normalize\n",
    "import pandas as pd\n",
    "from pygments import highlight\n",
    "from pygments.lexers import JsonLexer\n",
    "from pygments.formatters import TerminalFormatter, TerminalTrueColorFormatter\n",
    "import matplotlib.pyplot as plt\n",
    "\n",
    "api_key = \"41e75df9-0d8f-4063-bf72-facad8d1fd7a\"  #api_key = \"b981c399-0513-4d29-a9e5-882ef07e8ba9\" # alternative api key\n",
    "\n",
    "host = \"ci-api.mybluemix.net\"\n",
    "basePath = \"/api/v2/wealth/\"\n",
    "base_url = \"https://\" + host + basePath #  the path to the Client Insights for Wealth Management service on IBM Cloud\n",
    "\n",
    "api_context = \"application/json\" #  the type of information we're passing to the API\n",
    "head = {\"Authorization\" : api_key, \n",
    "        \"Content-Type\" : api_context} # the headers we're using with the API to provide context and authorization\n",
    "\n",
    "effective_date = \"2017-12-31\" # the date used to get records with the most recent date\n",
    "page_size = 500"
   ]
  },
  {
   "cell_type": "code",
   "execution_count": 2,
   "metadata": {},
   "outputs": [],
   "source": [
    "customer_id = 5363\n",
    "#customer_id = 1038\n",
    "#customer_id = 2020\n",
    "#customer_id = 5000\n",
    "#customer_id = 5349"
   ]
  },
  {
   "cell_type": "markdown",
   "metadata": {},
   "source": [
    "**Note**: Please feel free to try any of the above customer_ids to see different results. We have written the commentary for customer ID 5363 only, however."
   ]
  },
  {
   "cell_type": "markdown",
   "metadata": {},
   "source": [
    "<a href=\"#top\">Return to Top</a>"
   ]
  },
  {
   "cell_type": "markdown",
   "metadata": {},
   "source": [
    "<a id='profile'></a>\n",
    "## Retrieve the complete client profile\n",
    "\n",
    "In this section, we'll build a profile for a particular customer.  For purposes of illustration, we've selected the customer ID 5363.  We'll retrieve basic information and attrition score for the client and then identify the products this customer is most likely to consider and examine relevant life events.  The final element is a description of the segment to which this client belongs.  As we go through each element of the profile, comments will discuss potential usage in preparing for our client meeting."
   ]
  },
  {
   "cell_type": "code",
   "execution_count": 3,
   "metadata": {},
   "outputs": [
    {
     "name": "stdout",
     "output_type": "stream",
     "text": [
      "Retrieve the entire profile of a specific customer 5363\n",
      "[ET customer from: https://ci-api.mybluemix.net/api/v2/wealth/customers/5363/profile\n",
      "    {\n",
      "        \u001b[38;2;0;128;0;01m\"customer\"\u001b[39;00m: {\n",
      "            \u001b[38;2;0;128;0;01m\"address_last_changed_date\"\u001b[39;00m: \u001b[38;2;186;33;33m\"2012-07-16\"\u001b[39m,\n",
      "            \u001b[38;2;0;128;0;01m\"advertising_indicator\"\u001b[39;00m: \u001b[38;2;0;128;0;01mtrue\u001b[39;00m,\n",
      "            \u001b[38;2;0;128;0;01m\"aggregation_opt_in_indicator\"\u001b[39;00m: \u001b[38;2;0;128;0;01mtrue\u001b[39;00m,\n",
      "            \u001b[38;2;0;128;0;01m\"customer_behavior\"\u001b[39;00m: \u001b[38;2;186;33;33m\"nulla curabitur\"\u001b[39m,\n",
      "            \u001b[38;2;0;128;0;01m\"customer_id\"\u001b[39;00m: \u001b[38;2;186;33;33m\"5363\"\u001b[39m,\n",
      "            \u001b[38;2;0;128;0;01m\"effective_date\"\u001b[39;00m: \u001b[38;2;186;33;33m\"2015-02-26\"\u001b[39m,\n",
      "            \u001b[38;2;0;128;0;01m\"geographic_area_home\"\u001b[39;00m: \u001b[38;2;186;33;33m\"Canada Manitoba MB\"\u001b[39m,\n",
      "            \u001b[38;2;0;128;0;01m\"geographic_area_mailing\"\u001b[39;00m: \u001b[38;2;186;33;33m\"Canada Manitoba MB\"\u001b[39m,\n",
      "            \u001b[38;2;0;128;0;01m\"geographic_area_work\"\u001b[39;00m: \u001b[38;2;186;33;33m\"Canada Manitoba MB\"\u001b[39m,\n",
      "            \u001b[38;2;0;128;0;01m\"head_of_household_indicator\"\u001b[39;00m: \u001b[38;2;0;128;0;01mtrue\u001b[39;00m,\n",
      "            \u001b[38;2;0;128;0;01m\"household_id\"\u001b[39;00m: \u001b[38;2;186;33;33m\"52229\"\u001b[39m,\n",
      "            \u001b[38;2;0;128;0;01m\"importance_level_code\"\u001b[39;00m: \u001b[38;2;186;33;33m\"Low priority\"\u001b[39m,\n",
      "            \u001b[38;2;0;128;0;01m\"influence_score\"\u001b[39;00m: \u001b[38;2;102;102;102m119883\u001b[39m,\n",
      "            \u001b[38;2;0;128;0;01m\"life_cycle_status_code\"\u001b[39;00m: \u001b[38;2;186;33;33m\"semper viverra\"\u001b[39m,\n",
      "            \u001b[38;2;0;128;0;01m\"market_group\"\u001b[39;00m: \u001b[38;2;186;33;33m\"tristique\"\u001b[39m,\n",
      "            \u001b[38;2;0;128;0;01m\"preferred_communication_form\"\u001b[39;00m: \u001b[38;2;186;33;33m\"ultricies\"\u001b[39m,\n",
      "            \u001b[38;2;0;128;0;01m\"primary_advisor_organization_id\"\u001b[39;00m: \u001b[38;2;186;33;33m\"4082\"\u001b[39m,\n",
      "            \u001b[38;2;0;128;0;01m\"primary_branch_proximity\"\u001b[39;00m: \u001b[38;2;102;102;102m946.5123343596409\u001b[39m,\n",
      "            \u001b[38;2;0;128;0;01m\"pursuit\"\u001b[39;00m: \u001b[38;2;186;33;33m\"nulla curabitur\"\u001b[39m,\n",
      "            \u001b[38;2;0;128;0;01m\"recorded_voice_sample_id\"\u001b[39;00m: \u001b[38;2;186;33;33m\"121050\"\u001b[39m,\n",
      "            \u001b[38;2;0;128;0;01m\"referrals_value_code\"\u001b[39;00m: \u001b[38;2;186;33;33m\"High\"\u001b[39m,\n",
      "            \u001b[38;2;0;128;0;01m\"relationship_start_date\"\u001b[39;00m: \u001b[38;2;186;33;33m\"2015-02-26\"\u001b[39m,\n",
      "            \u001b[38;2;0;128;0;01m\"satisfaction_rating_from_survey\"\u001b[39;00m: \u001b[38;2;186;33;33m\"nulla curabitur\"\u001b[39m,\n",
      "            \u001b[38;2;0;128;0;01m\"secondary_advisor_id\"\u001b[39;00m: \u001b[38;2;186;33;33m\"50600\"\u001b[39m,\n",
      "            \u001b[38;2;0;128;0;01m\"secondary_advisor_organization_id\"\u001b[39;00m: \u001b[38;2;186;33;33m\"46040\"\u001b[39m,\n",
      "            \u001b[38;2;0;128;0;01m\"status\"\u001b[39;00m: \u001b[38;2;186;33;33m\"Active\"\u001b[39m,\n",
      "            \u001b[38;2;0;128;0;01m\"status_date\"\u001b[39;00m: \u001b[38;2;186;33;33m\"2015-02-26\"\u001b[39m,\n",
      "            \u001b[38;2;0;128;0;01m\"urban_code\"\u001b[39;00m: \u001b[38;2;186;33;33m\"City\"\u001b[39m\n",
      "        },\n",
      "        \u001b[38;2;0;128;0;01m\"event_scores\"\u001b[39;00m: [\n",
      "            {\n",
      "                \u001b[38;2;0;128;0;01m\"customer_id\"\u001b[39;00m: \u001b[38;2;186;33;33m\"5363\"\u001b[39m,\n",
      "                \u001b[38;2;0;128;0;01m\"effective_date\"\u001b[39;00m: \u001b[38;2;186;33;33m\"2017-12-31\"\u001b[39m,\n",
      "                \u001b[38;2;0;128;0;01m\"event_type_id\"\u001b[39;00m: \u001b[38;2;186;33;33m\"LFE_HOME_PURCHASE\"\u001b[39m,\n",
      "                \u001b[38;2;0;128;0;01m\"feature_1_column\"\u001b[39;00m: \u001b[38;2;186;33;33m\"MONTH\"\u001b[39m,\n",
      "                \u001b[38;2;0;128;0;01m\"feature_1_value\"\u001b[39;00m: \u001b[38;2;102;102;102m0.0\u001b[39m,\n",
      "                \u001b[38;2;0;128;0;01m\"feature_2_column\"\u001b[39;00m: \u001b[38;2;186;33;33m\"E_BIRTHDAY78_OW\"\u001b[39m,\n",
      "                \u001b[38;2;0;128;0;01m\"feature_2_value\"\u001b[39;00m: \u001b[38;2;102;102;102m0.0\u001b[39m,\n",
      "                \u001b[38;2;0;128;0;01m\"feature_3_column\"\u001b[39;00m: \u001b[38;2;186;33;33m\"E_BIRTHDAY84_OW\"\u001b[39m,\n",
      "                \u001b[38;2;0;128;0;01m\"feature_3_value\"\u001b[39;00m: \u001b[38;2;102;102;102m0.0\u001b[39m,\n",
      "                \u001b[38;2;0;128;0;01m\"forecast_horizon\"\u001b[39;00m: \u001b[38;2;102;102;102m3\u001b[39m,\n",
      "                \u001b[38;2;0;128;0;01m\"score_code\"\u001b[39;00m: \u001b[38;2;186;33;33m\"LIFE_EVENT_PREDICT\"\u001b[39m,\n",
      "                \u001b[38;2;0;128;0;01m\"score_value\"\u001b[39;00m: \u001b[38;2;102;102;102m0.003257328990228013\u001b[39m\n",
      "            },\n",
      "            {\n",
      "                \u001b[38;2;0;128;0;01m\"customer_id\"\u001b[39;00m: \u001b[38;2;186;33;33m\"5363\"\u001b[39m,\n",
      "                \u001b[38;2;0;128;0;01m\"effective_date\"\u001b[39;00m: \u001b[38;2;186;33;33m\"2017-12-31\"\u001b[39m,\n",
      "                \u001b[38;2;0;128;0;01m\"event_type_id\"\u001b[39;00m: \u001b[38;2;186;33;33m\"LFE_RELOCATION\"\u001b[39m,\n",
      "                \u001b[38;2;0;128;0;01m\"feature_1_column\"\u001b[39;00m: \u001b[38;2;186;33;33m\"MONTH\"\u001b[39m,\n",
      "                \u001b[38;2;0;128;0;01m\"feature_1_value\"\u001b[39;00m: \u001b[38;2;102;102;102m0.0\u001b[39m,\n",
      "                \u001b[38;2;0;128;0;01m\"feature_2_column\"\u001b[39;00m: \u001b[38;2;186;33;33m\"E_BIRTHDAY77_OW\"\u001b[39m,\n",
      "                \u001b[38;2;0;128;0;01m\"feature_2_value\"\u001b[39;00m: \u001b[38;2;102;102;102m0.0\u001b[39m,\n",
      "                \u001b[38;2;0;128;0;01m\"feature_3_column\"\u001b[39;00m: \u001b[38;2;186;33;33m\"E_BIRTHDAY83_OW\"\u001b[39m,\n",
      "                \u001b[38;2;0;128;0;01m\"feature_3_value\"\u001b[39;00m: \u001b[38;2;102;102;102m0.0\u001b[39m,\n",
      "                \u001b[38;2;0;128;0;01m\"forecast_horizon\"\u001b[39;00m: \u001b[38;2;102;102;102m3\u001b[39m,\n",
      "                \u001b[38;2;0;128;0;01m\"score_code\"\u001b[39;00m: \u001b[38;2;186;33;33m\"LIFE_EVENT_PREDICT\"\u001b[39m,\n",
      "                \u001b[38;2;0;128;0;01m\"score_value\"\u001b[39;00m: \u001b[38;2;102;102;102m0.01145912910618793\u001b[39m\n",
      "            }\n",
      "        ],\n",
      "        \u001b[38;2;0;128;0;01m\"product_scores\"\u001b[39;00m: [\n",
      "            {\n",
      "                \u001b[38;2;0;128;0;01m\"customer_id\"\u001b[39;00m: \u001b[38;2;186;33;33m\"5363\"\u001b[39m,\n",
      "                \u001b[38;2;0;128;0;01m\"effective_date\"\u001b[39;00m: \u001b[38;2;186;33;33m\"2017-12-31\"\u001b[39m,\n",
      "                \u001b[38;2;0;128;0;01m\"feature_1_column\"\u001b[39;00m: \u001b[38;2;186;33;33m\"PID_MANAGEDPORTFOLIO_CUSTOMER_PRODUCT_SUMMARY_PRODUCT_OWNED_INDICATOR\"\u001b[39m,\n",
      "                \u001b[38;2;0;128;0;01m\"feature_1_value\"\u001b[39;00m: \u001b[38;2;102;102;102m0.004474759101867676\u001b[39m,\n",
      "                \u001b[38;2;0;128;0;01m\"feature_2_column\"\u001b[39;00m: \u001b[38;2;186;33;33m\"CUSTOMER_MARKET_GROUP\"\u001b[39m,\n",
      "                \u001b[38;2;0;128;0;01m\"feature_2_value\"\u001b[39;00m: \u001b[38;2;102;102;102m0.0\u001b[39m,\n",
      "                \u001b[38;2;0;128;0;01m\"feature_3_column\"\u001b[39;00m: \u001b[38;2;186;33;33m\"CUSTOMER_EDUCATION_LEVEL\"\u001b[39m,\n",
      "                \u001b[38;2;0;128;0;01m\"feature_3_value\"\u001b[39;00m: \u001b[38;2;102;102;102m0.0\u001b[39m,\n",
      "                \u001b[38;2;0;128;0;01m\"forecast_horizon\"\u001b[39;00m: \u001b[38;2;102;102;102m0\u001b[39m,\n",
      "                \u001b[38;2;0;128;0;01m\"product_id\"\u001b[39;00m: \u001b[38;2;186;33;33m\"FinancialPlan\"\u001b[39m,\n",
      "                \u001b[38;2;0;128;0;01m\"score_code\"\u001b[39;00m: \u001b[38;2;186;33;33m\"PRODUCT_PROPENSITY\"\u001b[39m,\n",
      "                \u001b[38;2;0;128;0;01m\"score_value\"\u001b[39;00m: \u001b[38;2;102;102;102m0.6900956034660339\u001b[39m,\n",
      "                \u001b[38;2;0;128;0;01m\"segment_id\"\u001b[39;00m: \u001b[38;2;186;33;33m\"7\"\u001b[39m\n",
      "            }\n",
      "        ],\n",
      "        \u001b[38;2;0;128;0;01m\"products\"\u001b[39;00m: [\n",
      "            {\n",
      "                \u001b[38;2;0;128;0;01m\"alternative_name\"\u001b[39;00m: \u001b[38;2;186;33;33m\"Brokerage\"\u001b[39m,\n",
      "                \u001b[38;2;0;128;0;01m\"brand\"\u001b[39;00m: \u001b[38;2;186;33;33m\"Flexible\"\u001b[39m,\n",
      "                \u001b[38;2;0;128;0;01m\"class_of_business\"\u001b[39;00m: \u001b[38;2;186;33;33m\"Trading\"\u001b[39m,\n",
      "                \u001b[38;2;0;128;0;01m\"description\"\u001b[39;00m: \u001b[38;2;186;33;33m\"stock trading\"\u001b[39m,\n",
      "                \u001b[38;2;0;128;0;01m\"effective_date\"\u001b[39;00m: \u001b[38;2;186;33;33m\"2013-01-01\"\u001b[39m,\n",
      "                \u001b[38;2;0;128;0;01m\"external_reference\"\u001b[39;00m: \u001b[38;2;186;33;33m\"BRK001\"\u001b[39m,\n",
      "                \u001b[38;2;0;128;0;01m\"financial_product_indicator\"\u001b[39;00m: \u001b[38;2;0;128;0;01mfalse\u001b[39;00m,\n",
      "                \u001b[38;2;0;128;0;01m\"initial_offer_date\"\u001b[39;00m: \u001b[38;2;186;33;33m\"2000-01-01\"\u001b[39m,\n",
      "                \u001b[38;2;0;128;0;01m\"line_of_business\"\u001b[39;00m: \u001b[38;2;186;33;33m\"Mass Affluent\"\u001b[39m,\n",
      "                \u001b[38;2;0;128;0;01m\"market_value_adjustment_indicator\"\u001b[39;00m: \u001b[38;2;0;128;0;01mtrue\u001b[39;00m,\n",
      "                \u001b[38;2;0;128;0;01m\"marketable_product_indicator\"\u001b[39;00m: \u001b[38;2;0;128;0;01mtrue\u001b[39;00m,\n",
      "                \u001b[38;2;0;128;0;01m\"name\"\u001b[39;00m: \u001b[38;2;186;33;33m\"Brokerage\"\u001b[39m,\n",
      "                \u001b[38;2;0;128;0;01m\"product_group\"\u001b[39;00m: \u001b[38;2;186;33;33m\"Brokerage\"\u001b[39m,\n",
      "                \u001b[38;2;0;128;0;01m\"product_id\"\u001b[39;00m: \u001b[38;2;186;33;33m\"Brokerage\"\u001b[39m,\n",
      "                \u001b[38;2;0;128;0;01m\"product_level\"\u001b[39;00m: \u001b[38;2;102;102;102m2\u001b[39m,\n",
      "                \u001b[38;2;0;128;0;01m\"service_indicator\"\u001b[39;00m: \u001b[38;2;0;128;0;01mfalse\u001b[39;00m,\n",
      "                \u001b[38;2;0;128;0;01m\"status\"\u001b[39;00m: \u001b[38;2;186;33;33m\"Active\"\u001b[39m,\n",
      "                \u001b[38;2;0;128;0;01m\"status_date\"\u001b[39;00m: \u001b[38;2;186;33;33m\"2001-01-01\"\u001b[39m,\n",
      "                \u001b[38;2;0;128;0;01m\"status_reason\"\u001b[39;00m: \u001b[38;2;186;33;33m\"Available for Sale\"\u001b[39m,\n",
      "                \u001b[38;2;0;128;0;01m\"tax_advantage_indicator\"\u001b[39;00m: \u001b[38;2;0;128;0;01mfalse\u001b[39;00m,\n",
      "                \u001b[38;2;0;128;0;01m\"third_party_product_indicator\"\u001b[39;00m: \u001b[38;2;0;128;0;01mfalse\u001b[39;00m\n",
      "            },\n",
      "            {\n",
      "                \u001b[38;2;0;128;0;01m\"alternative_name\"\u001b[39;00m: \u001b[38;2;186;33;33m\"Cash Savings Account\"\u001b[39m,\n",
      "                \u001b[38;2;0;128;0;01m\"brand\"\u001b[39;00m: \u001b[38;2;186;33;33m\"Essential\"\u001b[39m,\n",
      "                \u001b[38;2;0;128;0;01m\"class_of_business\"\u001b[39;00m: \u001b[38;2;186;33;33m\"Basic\"\u001b[39m,\n",
      "                \u001b[38;2;0;128;0;01m\"description\"\u001b[39;00m: \u001b[38;2;186;33;33m\"savings accounts\"\u001b[39m,\n",
      "                \u001b[38;2;0;128;0;01m\"effective_date\"\u001b[39;00m: \u001b[38;2;186;33;33m\"2010-01-01\"\u001b[39m,\n",
      "                \u001b[38;2;0;128;0;01m\"external_reference\"\u001b[39;00m: \u001b[38;2;186;33;33m\"SAV001\"\u001b[39m,\n",
      "                \u001b[38;2;0;128;0;01m\"financial_product_indicator\"\u001b[39;00m: \u001b[38;2;0;128;0;01mfalse\u001b[39;00m,\n",
      "                \u001b[38;2;0;128;0;01m\"initial_offer_date\"\u001b[39;00m: \u001b[38;2;186;33;33m\"2000-01-01\"\u001b[39m,\n",
      "                \u001b[38;2;0;128;0;01m\"line_of_business\"\u001b[39;00m: \u001b[38;2;186;33;33m\"Mass Affluent\"\u001b[39m,\n",
      "                \u001b[38;2;0;128;0;01m\"market_value_adjustment_indicator\"\u001b[39;00m: \u001b[38;2;0;128;0;01mfalse\u001b[39;00m,\n",
      "                \u001b[38;2;0;128;0;01m\"marketable_product_indicator\"\u001b[39;00m: \u001b[38;2;0;128;0;01mtrue\u001b[39;00m,\n",
      "                \u001b[38;2;0;128;0;01m\"name\"\u001b[39;00m: \u001b[38;2;186;33;33m\"Cash Savings\"\u001b[39m,\n",
      "                \u001b[38;2;0;128;0;01m\"product_group\"\u001b[39;00m: \u001b[38;2;186;33;33m\"Cash\"\u001b[39m,\n",
      "                \u001b[38;2;0;128;0;01m\"product_id\"\u001b[39;00m: \u001b[38;2;186;33;33m\"Cash\"\u001b[39m,\n",
      "                \u001b[38;2;0;128;0;01m\"product_level\"\u001b[39;00m: \u001b[38;2;102;102;102m2\u001b[39m,\n",
      "                \u001b[38;2;0;128;0;01m\"service_indicator\"\u001b[39;00m: \u001b[38;2;0;128;0;01mfalse\u001b[39;00m,\n",
      "                \u001b[38;2;0;128;0;01m\"status\"\u001b[39;00m: \u001b[38;2;186;33;33m\"Active\"\u001b[39m,\n",
      "                \u001b[38;2;0;128;0;01m\"status_date\"\u001b[39;00m: \u001b[38;2;186;33;33m\"2001-01-01\"\u001b[39m,\n",
      "                \u001b[38;2;0;128;0;01m\"status_reason\"\u001b[39;00m: \u001b[38;2;186;33;33m\"Available for Sale\"\u001b[39m,\n",
      "                \u001b[38;2;0;128;0;01m\"tax_advantage_indicator\"\u001b[39;00m: \u001b[38;2;0;128;0;01mfalse\u001b[39;00m,\n",
      "                \u001b[38;2;0;128;0;01m\"third_party_product_indicator\"\u001b[39;00m: \u001b[38;2;0;128;0;01mfalse\u001b[39;00m\n",
      "            }\n",
      "        ],\n",
      "        \u001b[38;2;0;128;0;01m\"scores\"\u001b[39;00m: [\n",
      "            {\n",
      "                \u001b[38;2;0;128;0;01m\"customer_id\"\u001b[39;00m: \u001b[38;2;186;33;33m\"5363\"\u001b[39m,\n",
      "                \u001b[38;2;0;128;0;01m\"effective_date\"\u001b[39;00m: \u001b[38;2;186;33;33m\"2017-12-31\"\u001b[39m,\n",
      "                \u001b[38;2;0;128;0;01m\"forecast_horizon\"\u001b[39;00m: \u001b[38;2;102;102;102m0\u001b[39m,\n",
      "                \u001b[38;2;0;128;0;01m\"score_code\"\u001b[39;00m: \u001b[38;2;186;33;33m\"DYNAMIC_SEGMENTATION\"\u001b[39m,\n",
      "                \u001b[38;2;0;128;0;01m\"segment_id\"\u001b[39;00m: \u001b[38;2;186;33;33m\"1\"\u001b[39m\n",
      "            },\n",
      "            {\n",
      "                \u001b[38;2;0;128;0;01m\"customer_id\"\u001b[39;00m: \u001b[38;2;186;33;33m\"5363\"\u001b[39m,\n",
      "                \u001b[38;2;0;128;0;01m\"effective_date\"\u001b[39;00m: \u001b[38;2;186;33;33m\"2017-12-31\"\u001b[39m,\n",
      "                \u001b[38;2;0;128;0;01m\"feature_1_column\"\u001b[39;00m: \u001b[38;2;186;33;33m\"CUSTOMER_FAMILY_SIZE\"\u001b[39m,\n",
      "                \u001b[38;2;0;128;0;01m\"feature_1_value\"\u001b[39;00m: \u001b[38;2;102;102;102m0.5838993787765503\u001b[39m,\n",
      "                \u001b[38;2;0;128;0;01m\"feature_2_column\"\u001b[39;00m: \u001b[38;2;186;33;33m\"CUSTOMER_AGE_RANGE\"\u001b[39m,\n",
      "                \u001b[38;2;0;128;0;01m\"feature_2_value\"\u001b[39;00m: \u001b[38;2;102;102;102m0.09058721922338009\u001b[39m,\n",
      "                \u001b[38;2;0;128;0;01m\"feature_3_column\"\u001b[39;00m: \u001b[38;2;186;33;33m\"CUSTOMER_SUMMARY_TOTAL_AMOUNT_OF_ALL_FEES\"\u001b[39m,\n",
      "                \u001b[38;2;0;128;0;01m\"feature_3_value\"\u001b[39;00m: \u001b[38;2;102;102;102m0.06879292987287045\u001b[39m,\n",
      "                \u001b[38;2;0;128;0;01m\"forecast_horizon\"\u001b[39;00m: \u001b[38;2;102;102;102m1\u001b[39m,\n",
      "                \u001b[38;2;0;128;0;01m\"score_code\"\u001b[39;00m: \u001b[38;2;186;33;33m\"ATTRITION\"\u001b[39m,\n",
      "                \u001b[38;2;0;128;0;01m\"score_value\"\u001b[39;00m: \u001b[38;2;102;102;102m0.12286426\u001b[39m,\n",
      "                \u001b[38;2;0;128;0;01m\"segment_id\"\u001b[39;00m: \u001b[38;2;186;33;33m\"8\"\u001b[39m\n",
      "            },\n",
      "            {\n",
      "                \u001b[38;2;0;128;0;01m\"customer_id\"\u001b[39;00m: \u001b[38;2;186;33;33m\"5363\"\u001b[39m,\n",
      "                \u001b[38;2;0;128;0;01m\"effective_date\"\u001b[39;00m: \u001b[38;2;186;33;33m\"2017-12-31\"\u001b[39m,\n",
      "                \u001b[38;2;0;128;0;01m\"feature_1_column\"\u001b[39;00m: \u001b[38;2;186;33;33m\"CUSTOMER_FAMILY_SIZE\"\u001b[39m,\n",
      "                \u001b[38;2;0;128;0;01m\"feature_1_value\"\u001b[39;00m: \u001b[38;2;102;102;102m0.29142868518829346\u001b[39m,\n",
      "                \u001b[38;2;0;128;0;01m\"feature_2_column\"\u001b[39;00m: \u001b[38;2;186;33;33m\"CUSTOMER_NUMBER_OF_DEPENDENT_CHILDREN\"\u001b[39m,\n",
      "                \u001b[38;2;0;128;0;01m\"feature_2_value\"\u001b[39;00m: \u001b[38;2;102;102;102m0.08342719078063965\u001b[39m,\n",
      "                \u001b[38;2;0;128;0;01m\"feature_3_column\"\u001b[39;00m: \u001b[38;2;186;33;33m\"CUSTOMER_AGE_RANGE\"\u001b[39m,\n",
      "                \u001b[38;2;0;128;0;01m\"feature_3_value\"\u001b[39;00m: \u001b[38;2;102;102;102m0.004908174276351929\u001b[39m,\n",
      "                \u001b[38;2;0;128;0;01m\"forecast_horizon\"\u001b[39;00m: \u001b[38;2;102;102;102m3\u001b[39m,\n",
      "                \u001b[38;2;0;128;0;01m\"score_code\"\u001b[39;00m: \u001b[38;2;186;33;33m\"ATTRITION\"\u001b[39m,\n",
      "                \u001b[38;2;0;128;0;01m\"score_value\"\u001b[39;00m: \u001b[38;2;102;102;102m0.5457004\u001b[39m,\n",
      "                \u001b[38;2;0;128;0;01m\"segment_id\"\u001b[39;00m: \u001b[38;2;186;33;33m\"9\"\u001b[39m\n",
      "            },\n",
      "            {\n",
      "                \u001b[38;2;0;128;0;01m\"customer_id\"\u001b[39;00m: \u001b[38;2;186;33;33m\"5363\"\u001b[39m,\n",
      "                \u001b[38;2;0;128;0;01m\"effective_date\"\u001b[39;00m: \u001b[38;2;186;33;33m\"2017-12-31\"\u001b[39m,\n",
      "                \u001b[38;2;0;128;0;01m\"feature_1_column\"\u001b[39;00m: \u001b[38;2;186;33;33m\"CUSTOMER_NUMBER_OF_DEPENDENT_CHILDREN\"\u001b[39m,\n",
      "                \u001b[38;2;0;128;0;01m\"feature_1_value\"\u001b[39;00m: \u001b[38;2;102;102;102m0.12864917516708374\u001b[39m,\n",
      "                \u001b[38;2;0;128;0;01m\"feature_2_column\"\u001b[39;00m: \u001b[38;2;186;33;33m\"CUSTOMER_AGE_RANGE\"\u001b[39m,\n",
      "                \u001b[38;2;0;128;0;01m\"feature_2_value\"\u001b[39;00m: \u001b[38;2;102;102;102m0.008093059062957764\u001b[39m,\n",
      "                \u001b[38;2;0;128;0;01m\"feature_3_column\"\u001b[39;00m: \u001b[38;2;186;33;33m\"CUSTOMER_MARKET_GROUP\"\u001b[39m,\n",
      "                \u001b[38;2;0;128;0;01m\"feature_3_value\"\u001b[39;00m: \u001b[38;2;102;102;102m0.0\u001b[39m,\n",
      "                \u001b[38;2;0;128;0;01m\"forecast_horizon\"\u001b[39;00m: \u001b[38;2;102;102;102m6\u001b[39m,\n",
      "                \u001b[38;2;0;128;0;01m\"score_code\"\u001b[39;00m: \u001b[38;2;186;33;33m\"ATTRITION\"\u001b[39m,\n",
      "                \u001b[38;2;0;128;0;01m\"score_value\"\u001b[39;00m: \u001b[38;2;102;102;102m0.8923283\u001b[39m,\n",
      "                \u001b[38;2;0;128;0;01m\"segment_id\"\u001b[39;00m: \u001b[38;2;186;33;33m\"8\"\u001b[39m\n",
      "            }\n",
      "        ],\n",
      "        \u001b[38;2;0;128;0;01m\"summaries\"\u001b[39;00m: [\n",
      "            {\n",
      "                \u001b[38;2;0;128;0;01m\"aggregate_retail_spend\"\u001b[39;00m: \u001b[38;2;102;102;102m0.0\u001b[39m,\n",
      "                \u001b[38;2;0;128;0;01m\"average_sentiment_score\"\u001b[39;00m: \u001b[38;2;186;33;33m\"4\"\u001b[39m,\n",
      "                \u001b[38;2;0;128;0;01m\"customer_id\"\u001b[39;00m: \u001b[38;2;186;33;33m\"5363\"\u001b[39m,\n",
      "                \u001b[38;2;0;128;0;01m\"end_date\"\u001b[39;00m: \u001b[38;2;186;33;33m\"2015-02-28\"\u001b[39m,\n",
      "                \u001b[38;2;0;128;0;01m\"latest_sentiment_score\"\u001b[39;00m: \u001b[38;2;186;33;33m\"4\"\u001b[39m,\n",
      "                \u001b[38;2;0;128;0;01m\"log_ins_market_downturn\"\u001b[39;00m: \u001b[38;2;102;102;102m99\u001b[39m,\n",
      "                \u001b[38;2;0;128;0;01m\"log_ins_market_upturn\"\u001b[39;00m: \u001b[38;2;102;102;102m99\u001b[39m,\n",
      "                \u001b[38;2;0;128;0;01m\"number_of_active_accounts\"\u001b[39;00m: \u001b[38;2;102;102;102m2\u001b[39m,\n",
      "                \u001b[38;2;0;128;0;01m\"number_of_communications\"\u001b[39;00m: \u001b[38;2;102;102;102m0\u001b[39m,\n",
      "                \u001b[38;2;0;128;0;01m\"number_of_new_accounts_opened\"\u001b[39;00m: \u001b[38;2;102;102;102m0\u001b[39m,\n",
      "                \u001b[38;2;0;128;0;01m\"number_of_trading_periods\"\u001b[39;00m: \u001b[38;2;102;102;102m1\u001b[39m,\n",
      "                \u001b[38;2;0;128;0;01m\"number_of_transactions\"\u001b[39;00m: \u001b[38;2;102;102;102m1\u001b[39m,\n",
      "                \u001b[38;2;0;128;0;01m\"priority\"\u001b[39;00m: \u001b[38;2;186;33;33m\"Normal\"\u001b[39m,\n",
      "                \u001b[38;2;0;128;0;01m\"start_date\"\u001b[39;00m: \u001b[38;2;186;33;33m\"2015-02-01\"\u001b[39m,\n",
      "                \u001b[38;2;0;128;0;01m\"total_amount_of_all_fees\"\u001b[39;00m: \u001b[38;2;102;102;102m7146.5798439302125\u001b[39m,\n",
      "                \u001b[38;2;0;128;0;01m\"type\"\u001b[39;00m: \u001b[38;2;186;33;33m\"Monthly\"\u001b[39m\n",
      "            },\n",
      "            {\n",
      "                \u001b[38;2;0;128;0;01m\"aggregate_retail_spend\"\u001b[39;00m: \u001b[38;2;102;102;102m0.0\u001b[39m,\n",
      "                \u001b[38;2;0;128;0;01m\"average_sentiment_score\"\u001b[39;00m: \u001b[38;2;186;33;33m\"5\"\u001b[39m,\n",
      "                \u001b[38;2;0;128;0;01m\"customer_id\"\u001b[39;00m: \u001b[38;2;186;33;33m\"5363\"\u001b[39m,\n",
      "                \u001b[38;2;0;128;0;01m\"end_date\"\u001b[39;00m: \u001b[38;2;186;33;33m\"2015-03-31\"\u001b[39m,\n",
      "                \u001b[38;2;0;128;0;01m\"latest_sentiment_score\"\u001b[39;00m: \u001b[38;2;186;33;33m\"5\"\u001b[39m,\n",
      "                \u001b[38;2;0;128;0;01m\"log_ins_market_downturn\"\u001b[39;00m: \u001b[38;2;102;102;102m99\u001b[39m,\n",
      "                \u001b[38;2;0;128;0;01m\"log_ins_market_upturn\"\u001b[39;00m: \u001b[38;2;102;102;102m99\u001b[39m,\n",
      "                \u001b[38;2;0;128;0;01m\"number_of_active_accounts\"\u001b[39;00m: \u001b[38;2;102;102;102m2\u001b[39m,\n",
      "                \u001b[38;2;0;128;0;01m\"number_of_communications\"\u001b[39;00m: \u001b[38;2;102;102;102m0\u001b[39m,\n",
      "                \u001b[38;2;0;128;0;01m\"number_of_new_accounts_opened\"\u001b[39;00m: \u001b[38;2;102;102;102m0\u001b[39m,\n",
      "                \u001b[38;2;0;128;0;01m\"number_of_trading_periods\"\u001b[39;00m: \u001b[38;2;102;102;102m2\u001b[39m,\n",
      "                \u001b[38;2;0;128;0;01m\"number_of_transactions\"\u001b[39;00m: \u001b[38;2;102;102;102m1\u001b[39m,\n",
      "                \u001b[38;2;0;128;0;01m\"priority\"\u001b[39;00m: \u001b[38;2;186;33;33m\"Normal\"\u001b[39m,\n",
      "                \u001b[38;2;0;128;0;01m\"start_date\"\u001b[39;00m: \u001b[38;2;186;33;33m\"2015-03-01\"\u001b[39m,\n",
      "                \u001b[38;2;0;128;0;01m\"total_amount_of_all_fees\"\u001b[39;00m: \u001b[38;2;102;102;102m1065.6042780753905\u001b[39m,\n",
      "                \u001b[38;2;0;128;0;01m\"type\"\u001b[39;00m: \u001b[38;2;186;33;33m\"Monthly\"\u001b[39m\n",
      "            },\n",
      "            {\n",
      "                \u001b[38;2;0;128;0;01m\"aggregate_retail_spend\"\u001b[39;00m: \u001b[38;2;102;102;102m0.0\u001b[39m,\n",
      "                \u001b[38;2;0;128;0;01m\"average_sentiment_score\"\u001b[39;00m: \u001b[38;2;186;33;33m\"1\"\u001b[39m,\n",
      "                \u001b[38;2;0;128;0;01m\"customer_id\"\u001b[39;00m: \u001b[38;2;186;33;33m\"5363\"\u001b[39m,\n",
      "                \u001b[38;2;0;128;0;01m\"end_date\"\u001b[39;00m: \u001b[38;2;186;33;33m\"2015-04-30\"\u001b[39m,\n",
      "                \u001b[38;2;0;128;0;01m\"latest_sentiment_score\"\u001b[39;00m: \u001b[38;2;186;33;33m\"1\"\u001b[39m,\n",
      "                \u001b[38;2;0;128;0;01m\"log_ins_market_downturn\"\u001b[39;00m: \u001b[38;2;102;102;102m99\u001b[39m,\n",
      "                \u001b[38;2;0;128;0;01m\"log_ins_market_upturn\"\u001b[39;00m: \u001b[38;2;102;102;102m99\u001b[39m,\n",
      "                \u001b[38;2;0;128;0;01m\"number_of_active_accounts\"\u001b[39;00m: \u001b[38;2;102;102;102m2\u001b[39m,\n",
      "                \u001b[38;2;0;128;0;01m\"number_of_communications\"\u001b[39;00m: \u001b[38;2;102;102;102m1\u001b[39m,\n",
      "                \u001b[38;2;0;128;0;01m\"number_of_new_accounts_opened\"\u001b[39;00m: \u001b[38;2;102;102;102m0\u001b[39m,\n",
      "                \u001b[38;2;0;128;0;01m\"number_of_trading_periods\"\u001b[39;00m: \u001b[38;2;102;102;102m3\u001b[39m,\n",
      "                \u001b[38;2;0;128;0;01m\"number_of_transactions\"\u001b[39;00m: \u001b[38;2;102;102;102m1\u001b[39m,\n",
      "                \u001b[38;2;0;128;0;01m\"priority\"\u001b[39;00m: \u001b[38;2;186;33;33m\"Normal\"\u001b[39m,\n",
      "                \u001b[38;2;0;128;0;01m\"start_date\"\u001b[39;00m: \u001b[38;2;186;33;33m\"2015-04-01\"\u001b[39m,\n",
      "                \u001b[38;2;0;128;0;01m\"total_amount_of_all_fees\"\u001b[39;00m: \u001b[38;2;102;102;102m1684.0226229090435\u001b[39m,\n",
      "                \u001b[38;2;0;128;0;01m\"type\"\u001b[39;00m: \u001b[38;2;186;33;33m\"Monthly\"\u001b[39m\n",
      "            },\n",
      "            {\n",
      "                \u001b[38;2;0;128;0;01m\"aggregate_retail_spend\"\u001b[39;00m: \u001b[38;2;102;102;102m0.0\u001b[39m,\n",
      "                \u001b[38;2;0;128;0;01m\"average_sentiment_score\"\u001b[39;00m: \u001b[38;2;186;33;33m\"2\"\u001b[39m,\n",
      "                \u001b[38;2;0;128;0;01m\"customer_id\"\u001b[39;00m: \u001b[38;2;186;33;33m\"5363\"\u001b[39m,\n",
      "                \u001b[38;2;0;128;0;01m\"end_date\"\u001b[39;00m: \u001b[38;2;186;33;33m\"2015-05-31\"\u001b[39m,\n",
      "                \u001b[38;2;0;128;0;01m\"latest_sentiment_score\"\u001b[39;00m: \u001b[38;2;186;33;33m\"2\"\u001b[39m,\n",
      "                \u001b[38;2;0;128;0;01m\"log_ins_market_downturn\"\u001b[39;00m: \u001b[38;2;102;102;102m99\u001b[39m,\n",
      "                \u001b[38;2;0;128;0;01m\"log_ins_market_upturn\"\u001b[39;00m: \u001b[38;2;102;102;102m99\u001b[39m,\n",
      "                \u001b[38;2;0;128;0;01m\"number_of_active_accounts\"\u001b[39;00m: \u001b[38;2;102;102;102m2\u001b[39m,\n",
      "                \u001b[38;2;0;128;0;01m\"number_of_communications\"\u001b[39;00m: \u001b[38;2;102;102;102m4\u001b[39m,\n",
      "                \u001b[38;2;0;128;0;01m\"number_of_new_accounts_opened\"\u001b[39;00m: \u001b[38;2;102;102;102m0\u001b[39m,\n",
      "                \u001b[38;2;0;128;0;01m\"number_of_trading_periods\"\u001b[39;00m: \u001b[38;2;102;102;102m4\u001b[39m,\n",
      "                \u001b[38;2;0;128;0;01m\"number_of_transactions\"\u001b[39;00m: \u001b[38;2;102;102;102m1\u001b[39m,\n",
      "                \u001b[38;2;0;128;0;01m\"priority\"\u001b[39;00m: \u001b[38;2;186;33;33m\"Normal\"\u001b[39m,\n",
      "                \u001b[38;2;0;128;0;01m\"start_date\"\u001b[39;00m: \u001b[38;2;186;33;33m\"2015-05-01\"\u001b[39m,\n",
      "                \u001b[38;2;0;128;0;01m\"total_amount_of_all_fees\"\u001b[39;00m: \u001b[38;2;102;102;102m907.5208349456607\u001b[39m,\n",
      "                \u001b[38;2;0;128;0;01m\"type\"\u001b[39;00m: \u001b[38;2;186;33;33m\"Monthly\"\u001b[39m\n",
      "            },\n",
      "            {\n",
      "                \u001b[38;2;0;128;0;01m\"aggregate_retail_spend\"\u001b[39;00m: \u001b[38;2;102;102;102m0.0\u001b[39m,\n",
      "                \u001b[38;2;0;128;0;01m\"average_sentiment_score\"\u001b[39;00m: \u001b[38;2;186;33;33m\"0\"\u001b[39m,\n",
      "                \u001b[38;2;0;128;0;01m\"customer_id\"\u001b[39;00m: \u001b[38;2;186;33;33m\"5363\"\u001b[39m,\n",
      "                \u001b[38;2;0;128;0;01m\"end_date\"\u001b[39;00m: \u001b[38;2;186;33;33m\"2015-06-30\"\u001b[39m,\n",
      "                \u001b[38;2;0;128;0;01m\"latest_sentiment_score\"\u001b[39;00m: \u001b[38;2;186;33;33m\"0\"\u001b[39m,\n",
      "                \u001b[38;2;0;128;0;01m\"log_ins_market_downturn\"\u001b[39;00m: \u001b[38;2;102;102;102m99\u001b[39m,\n",
      "                \u001b[38;2;0;128;0;01m\"log_ins_market_upturn\"\u001b[39;00m: \u001b[38;2;102;102;102m99\u001b[39m,\n",
      "                \u001b[38;2;0;128;0;01m\"number_of_active_accounts\"\u001b[39;00m: \u001b[38;2;102;102;102m2\u001b[39m,\n",
      "                \u001b[38;2;0;128;0;01m\"number_of_communications\"\u001b[39;00m: \u001b[38;2;102;102;102m3\u001b[39m,\n",
      "                \u001b[38;2;0;128;0;01m\"number_of_new_accounts_opened\"\u001b[39;00m: \u001b[38;2;102;102;102m0\u001b[39m,\n",
      "                \u001b[38;2;0;128;0;01m\"number_of_trading_periods\"\u001b[39;00m: \u001b[38;2;102;102;102m5\u001b[39m,\n",
      "                \u001b[38;2;0;128;0;01m\"number_of_transactions\"\u001b[39;00m: \u001b[38;2;102;102;102m1\u001b[39m,\n",
      "                \u001b[38;2;0;128;0;01m\"priority\"\u001b[39;00m: \u001b[38;2;186;33;33m\"Normal\"\u001b[39m,\n",
      "                \u001b[38;2;0;128;0;01m\"start_date\"\u001b[39;00m: \u001b[38;2;186;33;33m\"2015-06-01\"\u001b[39m,\n",
      "                \u001b[38;2;0;128;0;01m\"total_amount_of_all_fees\"\u001b[39;00m: \u001b[38;2;102;102;102m165.2776785459233\u001b[39m,\n",
      "                \u001b[38;2;0;128;0;01m\"type\"\u001b[39;00m: \u001b[38;2;186;33;33m\"Monthly\"\u001b[39m\n",
      "            },\n",
      "            {\n",
      "                \u001b[38;2;0;128;0;01m\"aggregate_retail_spend\"\u001b[39;00m: \u001b[38;2;102;102;102m0.0\u001b[39m,\n",
      "                \u001b[38;2;0;128;0;01m\"average_sentiment_score\"\u001b[39;00m: \u001b[38;2;186;33;33m\"5\"\u001b[39m,\n",
      "                \u001b[38;2;0;128;0;01m\"customer_id\"\u001b[39;00m: \u001b[38;2;186;33;33m\"5363\"\u001b[39m,\n",
      "                \u001b[38;2;0;128;0;01m\"end_date\"\u001b[39;00m: \u001b[38;2;186;33;33m\"2015-07-31\"\u001b[39m,\n",
      "                \u001b[38;2;0;128;0;01m\"latest_sentiment_score\"\u001b[39;00m: \u001b[38;2;186;33;33m\"5\"\u001b[39m,\n",
      "                \u001b[38;2;0;128;0;01m\"log_ins_market_downturn\"\u001b[39;00m: \u001b[38;2;102;102;102m99\u001b[39m,\n",
      "                \u001b[38;2;0;128;0;01m\"log_ins_market_upturn\"\u001b[39;00m: \u001b[38;2;102;102;102m99\u001b[39m,\n",
      "                \u001b[38;2;0;128;0;01m\"number_of_active_accounts\"\u001b[39;00m: \u001b[38;2;102;102;102m2\u001b[39m,\n",
      "                \u001b[38;2;0;128;0;01m\"number_of_communications\"\u001b[39;00m: \u001b[38;2;102;102;102m5\u001b[39m,\n",
      "                \u001b[38;2;0;128;0;01m\"number_of_new_accounts_opened\"\u001b[39;00m: \u001b[38;2;102;102;102m0\u001b[39m,\n",
      "                \u001b[38;2;0;128;0;01m\"number_of_trading_periods\"\u001b[39;00m: \u001b[38;2;102;102;102m6\u001b[39m,\n",
      "                \u001b[38;2;0;128;0;01m\"number_of_transactions\"\u001b[39;00m: \u001b[38;2;102;102;102m1\u001b[39m,\n",
      "                \u001b[38;2;0;128;0;01m\"priority\"\u001b[39;00m: \u001b[38;2;186;33;33m\"Normal\"\u001b[39m,\n",
      "                \u001b[38;2;0;128;0;01m\"start_date\"\u001b[39;00m: \u001b[38;2;186;33;33m\"2015-07-01\"\u001b[39m,\n",
      "                \u001b[38;2;0;128;0;01m\"total_amount_of_all_fees\"\u001b[39;00m: \u001b[38;2;102;102;102m341.7798382138635\u001b[39m,\n",
      "                \u001b[38;2;0;128;0;01m\"type\"\u001b[39;00m: \u001b[38;2;186;33;33m\"Monthly\"\u001b[39m\n",
      "            },\n",
      "            {\n",
      "                \u001b[38;2;0;128;0;01m\"aggregate_retail_spend\"\u001b[39;00m: \u001b[38;2;102;102;102m0.0\u001b[39m,\n",
      "                \u001b[38;2;0;128;0;01m\"average_sentiment_score\"\u001b[39;00m: \u001b[38;2;186;33;33m\"4\"\u001b[39m,\n",
      "                \u001b[38;2;0;128;0;01m\"customer_id\"\u001b[39;00m: \u001b[38;2;186;33;33m\"5363\"\u001b[39m,\n",
      "                \u001b[38;2;0;128;0;01m\"end_date\"\u001b[39;00m: \u001b[38;2;186;33;33m\"2015-08-31\"\u001b[39m,\n",
      "                \u001b[38;2;0;128;0;01m\"latest_sentiment_score\"\u001b[39;00m: \u001b[38;2;186;33;33m\"4\"\u001b[39m,\n",
      "                \u001b[38;2;0;128;0;01m\"log_ins_market_downturn\"\u001b[39;00m: \u001b[38;2;102;102;102m99\u001b[39m,\n",
      "                \u001b[38;2;0;128;0;01m\"log_ins_market_upturn\"\u001b[39;00m: \u001b[38;2;102;102;102m99\u001b[39m,\n",
      "                \u001b[38;2;0;128;0;01m\"number_of_active_accounts\"\u001b[39;00m: \u001b[38;2;102;102;102m2\u001b[39m,\n",
      "                \u001b[38;2;0;128;0;01m\"number_of_communications\"\u001b[39;00m: \u001b[38;2;102;102;102m6\u001b[39m,\n",
      "                \u001b[38;2;0;128;0;01m\"number_of_new_accounts_opened\"\u001b[39;00m: \u001b[38;2;102;102;102m0\u001b[39m,\n",
      "                \u001b[38;2;0;128;0;01m\"number_of_trading_periods\"\u001b[39;00m: \u001b[38;2;102;102;102m7\u001b[39m,\n",
      "                \u001b[38;2;0;128;0;01m\"number_of_transactions\"\u001b[39;00m: \u001b[38;2;102;102;102m1\u001b[39m,\n",
      "                \u001b[38;2;0;128;0;01m\"priority\"\u001b[39;00m: \u001b[38;2;186;33;33m\"Normal\"\u001b[39m,\n",
      "                \u001b[38;2;0;128;0;01m\"start_date\"\u001b[39;00m: \u001b[38;2;186;33;33m\"2015-08-01\"\u001b[39m,\n",
      "                \u001b[38;2;0;128;0;01m\"total_amount_of_all_fees\"\u001b[39;00m: \u001b[38;2;102;102;102m118.85786706189295\u001b[39m,\n",
      "                \u001b[38;2;0;128;0;01m\"type\"\u001b[39;00m: \u001b[38;2;186;33;33m\"Monthly\"\u001b[39m\n",
      "            },\n",
      "            {\n",
      "                \u001b[38;2;0;128;0;01m\"aggregate_retail_spend\"\u001b[39;00m: \u001b[38;2;102;102;102m0.0\u001b[39m,\n",
      "                \u001b[38;2;0;128;0;01m\"average_sentiment_score\"\u001b[39;00m: \u001b[38;2;186;33;33m\"4\"\u001b[39m,\n",
      "                \u001b[38;2;0;128;0;01m\"customer_id\"\u001b[39;00m: \u001b[38;2;186;33;33m\"5363\"\u001b[39m,\n",
      "                \u001b[38;2;0;128;0;01m\"end_date\"\u001b[39;00m: \u001b[38;2;186;33;33m\"2015-09-30\"\u001b[39m,\n",
      "                \u001b[38;2;0;128;0;01m\"latest_sentiment_score\"\u001b[39;00m: \u001b[38;2;186;33;33m\"4\"\u001b[39m,\n",
      "                \u001b[38;2;0;128;0;01m\"log_ins_market_downturn\"\u001b[39;00m: \u001b[38;2;102;102;102m99\u001b[39m,\n",
      "                \u001b[38;2;0;128;0;01m\"log_ins_market_upturn\"\u001b[39;00m: \u001b[38;2;102;102;102m99\u001b[39m,\n",
      "                \u001b[38;2;0;128;0;01m\"number_of_active_accounts\"\u001b[39;00m: \u001b[38;2;102;102;102m2\u001b[39m,\n",
      "                \u001b[38;2;0;128;0;01m\"number_of_communications\"\u001b[39;00m: \u001b[38;2;102;102;102m6\u001b[39m,\n",
      "                \u001b[38;2;0;128;0;01m\"number_of_new_accounts_opened\"\u001b[39;00m: \u001b[38;2;102;102;102m0\u001b[39m,\n",
      "                \u001b[38;2;0;128;0;01m\"number_of_trading_periods\"\u001b[39;00m: \u001b[38;2;102;102;102m8\u001b[39m,\n",
      "                \u001b[38;2;0;128;0;01m\"number_of_transactions\"\u001b[39;00m: \u001b[38;2;102;102;102m2\u001b[39m,\n",
      "                \u001b[38;2;0;128;0;01m\"priority\"\u001b[39;00m: \u001b[38;2;186;33;33m\"Normal\"\u001b[39m,\n",
      "                \u001b[38;2;0;128;0;01m\"start_date\"\u001b[39;00m: \u001b[38;2;186;33;33m\"2015-09-01\"\u001b[39m,\n",
      "                \u001b[38;2;0;128;0;01m\"total_amount_of_all_fees\"\u001b[39;00m: \u001b[38;2;102;102;102m171.24687262092723\u001b[39m,\n",
      "                \u001b[38;2;0;128;0;01m\"type\"\u001b[39;00m: \u001b[38;2;186;33;33m\"Monthly\"\u001b[39m\n",
      "            },\n",
      "            {\n",
      "                \u001b[38;2;0;128;0;01m\"aggregate_retail_spend\"\u001b[39;00m: \u001b[38;2;102;102;102m0.0\u001b[39m,\n",
      "                \u001b[38;2;0;128;0;01m\"average_sentiment_score\"\u001b[39;00m: \u001b[38;2;186;33;33m\"2\"\u001b[39m,\n",
      "                \u001b[38;2;0;128;0;01m\"customer_id\"\u001b[39;00m: \u001b[38;2;186;33;33m\"5363\"\u001b[39m,\n",
      "                \u001b[38;2;0;128;0;01m\"end_date\"\u001b[39;00m: \u001b[38;2;186;33;33m\"2015-10-31\"\u001b[39m,\n",
      "                \u001b[38;2;0;128;0;01m\"latest_sentiment_score\"\u001b[39;00m: \u001b[38;2;186;33;33m\"2\"\u001b[39m,\n",
      "                \u001b[38;2;0;128;0;01m\"log_ins_market_downturn\"\u001b[39;00m: \u001b[38;2;102;102;102m99\u001b[39m,\n",
      "                \u001b[38;2;0;128;0;01m\"log_ins_market_upturn\"\u001b[39;00m: \u001b[38;2;102;102;102m99\u001b[39m,\n",
      "                \u001b[38;2;0;128;0;01m\"number_of_active_accounts\"\u001b[39;00m: \u001b[38;2;102;102;102m2\u001b[39m,\n",
      "                \u001b[38;2;0;128;0;01m\"number_of_communications\"\u001b[39;00m: \u001b[38;2;102;102;102m1\u001b[39m,\n",
      "                \u001b[38;2;0;128;0;01m\"number_of_new_accounts_opened\"\u001b[39;00m: \u001b[38;2;102;102;102m0\u001b[39m,\n",
      "                \u001b[38;2;0;128;0;01m\"number_of_trading_periods\"\u001b[39;00m: \u001b[38;2;102;102;102m9\u001b[39m,\n",
      "                \u001b[38;2;0;128;0;01m\"number_of_transactions\"\u001b[39;00m: \u001b[38;2;102;102;102m1\u001b[39m,\n",
      "                \u001b[38;2;0;128;0;01m\"priority\"\u001b[39;00m: \u001b[38;2;186;33;33m\"Normal\"\u001b[39m,\n",
      "                \u001b[38;2;0;128;0;01m\"start_date\"\u001b[39;00m: \u001b[38;2;186;33;33m\"2015-10-01\"\u001b[39m,\n",
      "                \u001b[38;2;0;128;0;01m\"total_amount_of_all_fees\"\u001b[39;00m: \u001b[38;2;102;102;102m207.6549137533608\u001b[39m,\n",
      "                \u001b[38;2;0;128;0;01m\"type\"\u001b[39;00m: \u001b[38;2;186;33;33m\"Monthly\"\u001b[39m\n",
      "            },\n",
      "            {\n",
      "                \u001b[38;2;0;128;0;01m\"aggregate_retail_spend\"\u001b[39;00m: \u001b[38;2;102;102;102m0.0\u001b[39m,\n",
      "                \u001b[38;2;0;128;0;01m\"average_sentiment_score\"\u001b[39;00m: \u001b[38;2;186;33;33m\"2\"\u001b[39m,\n",
      "                \u001b[38;2;0;128;0;01m\"customer_id\"\u001b[39;00m: \u001b[38;2;186;33;33m\"5363\"\u001b[39m,\n",
      "                \u001b[38;2;0;128;0;01m\"end_date\"\u001b[39;00m: \u001b[38;2;186;33;33m\"2015-11-30\"\u001b[39m,\n",
      "                \u001b[38;2;0;128;0;01m\"latest_sentiment_score\"\u001b[39;00m: \u001b[38;2;186;33;33m\"2\"\u001b[39m,\n",
      "                \u001b[38;2;0;128;0;01m\"log_ins_market_downturn\"\u001b[39;00m: \u001b[38;2;102;102;102m99\u001b[39m,\n",
      "                \u001b[38;2;0;128;0;01m\"log_ins_market_upturn\"\u001b[39;00m: \u001b[38;2;102;102;102m99\u001b[39m,\n",
      "                \u001b[38;2;0;128;0;01m\"number_of_active_accounts\"\u001b[39;00m: \u001b[38;2;102;102;102m2\u001b[39m,\n",
      "                \u001b[38;2;0;128;0;01m\"number_of_communications\"\u001b[39;00m: \u001b[38;2;102;102;102m3\u001b[39m,\n",
      "                \u001b[38;2;0;128;0;01m\"number_of_new_accounts_opened\"\u001b[39;00m: \u001b[38;2;102;102;102m0\u001b[39m,\n",
      "                \u001b[38;2;0;128;0;01m\"number_of_trading_periods\"\u001b[39;00m: \u001b[38;2;102;102;102m10\u001b[39m,\n",
      "                \u001b[38;2;0;128;0;01m\"number_of_transactions\"\u001b[39;00m: \u001b[38;2;102;102;102m1\u001b[39m,\n",
      "                \u001b[38;2;0;128;0;01m\"priority\"\u001b[39;00m: \u001b[38;2;186;33;33m\"Normal\"\u001b[39m,\n",
      "                \u001b[38;2;0;128;0;01m\"start_date\"\u001b[39;00m: \u001b[38;2;186;33;33m\"2015-11-01\"\u001b[39m,\n",
      "                \u001b[38;2;0;128;0;01m\"total_amount_of_all_fees\"\u001b[39;00m: \u001b[38;2;102;102;102m55.40045150405961\u001b[39m,\n",
      "                \u001b[38;2;0;128;0;01m\"type\"\u001b[39;00m: \u001b[38;2;186;33;33m\"Monthly\"\u001b[39m\n",
      "            },\n",
      "            {\n",
      "                \u001b[38;2;0;128;0;01m\"aggregate_retail_spend\"\u001b[39;00m: \u001b[38;2;102;102;102m0.0\u001b[39m,\n",
      "                \u001b[38;2;0;128;0;01m\"average_sentiment_score\"\u001b[39;00m: \u001b[38;2;186;33;33m\"0\"\u001b[39m,\n",
      "                \u001b[38;2;0;128;0;01m\"customer_id\"\u001b[39;00m: \u001b[38;2;186;33;33m\"5363\"\u001b[39m,\n",
      "                \u001b[38;2;0;128;0;01m\"end_date\"\u001b[39;00m: \u001b[38;2;186;33;33m\"2015-12-31\"\u001b[39m,\n",
      "                \u001b[38;2;0;128;0;01m\"latest_sentiment_score\"\u001b[39;00m: \u001b[38;2;186;33;33m\"0\"\u001b[39m,\n",
      "                \u001b[38;2;0;128;0;01m\"log_ins_market_downturn\"\u001b[39;00m: \u001b[38;2;102;102;102m99\u001b[39m,\n",
      "                \u001b[38;2;0;128;0;01m\"log_ins_market_upturn\"\u001b[39;00m: \u001b[38;2;102;102;102m99\u001b[39m,\n",
      "                \u001b[38;2;0;128;0;01m\"number_of_active_accounts\"\u001b[39;00m: \u001b[38;2;102;102;102m2\u001b[39m,\n",
      "                \u001b[38;2;0;128;0;01m\"number_of_communications\"\u001b[39;00m: \u001b[38;2;102;102;102m2\u001b[39m,\n",
      "                \u001b[38;2;0;128;0;01m\"number_of_new_accounts_opened\"\u001b[39;00m: \u001b[38;2;102;102;102m0\u001b[39m,\n",
      "                \u001b[38;2;0;128;0;01m\"number_of_trading_periods\"\u001b[39;00m: \u001b[38;2;102;102;102m11\u001b[39m,\n",
      "                \u001b[38;2;0;128;0;01m\"number_of_transactions\"\u001b[39;00m: \u001b[38;2;102;102;102m1\u001b[39m,\n",
      "                \u001b[38;2;0;128;0;01m\"priority\"\u001b[39;00m: \u001b[38;2;186;33;33m\"Normal\"\u001b[39m,\n",
      "                \u001b[38;2;0;128;0;01m\"start_date\"\u001b[39;00m: \u001b[38;2;186;33;33m\"2015-12-01\"\u001b[39m,\n",
      "                \u001b[38;2;0;128;0;01m\"total_amount_of_all_fees\"\u001b[39;00m: \u001b[38;2;102;102;102m32.90425788710662\u001b[39m,\n",
      "                \u001b[38;2;0;128;0;01m\"type\"\u001b[39;00m: \u001b[38;2;186;33;33m\"Monthly\"\u001b[39m\n",
      "            },\n",
      "            {\n",
      "                \u001b[38;2;0;128;0;01m\"aggregate_retail_spend\"\u001b[39;00m: \u001b[38;2;102;102;102m0.0\u001b[39m,\n",
      "                \u001b[38;2;0;128;0;01m\"average_sentiment_score\"\u001b[39;00m: \u001b[38;2;186;33;33m\"0\"\u001b[39m,\n",
      "                \u001b[38;2;0;128;0;01m\"customer_id\"\u001b[39;00m: \u001b[38;2;186;33;33m\"5363\"\u001b[39m,\n",
      "                \u001b[38;2;0;128;0;01m\"end_date\"\u001b[39;00m: \u001b[38;2;186;33;33m\"2016-01-31\"\u001b[39m,\n",
      "                \u001b[38;2;0;128;0;01m\"latest_sentiment_score\"\u001b[39;00m: \u001b[38;2;186;33;33m\"0\"\u001b[39m,\n",
      "                \u001b[38;2;0;128;0;01m\"log_ins_market_downturn\"\u001b[39;00m: \u001b[38;2;102;102;102m99\u001b[39m,\n",
      "                \u001b[38;2;0;128;0;01m\"log_ins_market_upturn\"\u001b[39;00m: \u001b[38;2;102;102;102m99\u001b[39m,\n",
      "                \u001b[38;2;0;128;0;01m\"number_of_active_accounts\"\u001b[39;00m: \u001b[38;2;102;102;102m2\u001b[39m,\n",
      "                \u001b[38;2;0;128;0;01m\"number_of_communications\"\u001b[39;00m: \u001b[38;2;102;102;102m4\u001b[39m,\n",
      "                \u001b[38;2;0;128;0;01m\"number_of_new_accounts_opened\"\u001b[39;00m: \u001b[38;2;102;102;102m0\u001b[39m,\n",
      "                \u001b[38;2;0;128;0;01m\"number_of_trading_periods\"\u001b[39;00m: \u001b[38;2;102;102;102m12\u001b[39m,\n",
      "                \u001b[38;2;0;128;0;01m\"number_of_transactions\"\u001b[39;00m: \u001b[38;2;102;102;102m1\u001b[39m,\n",
      "                \u001b[38;2;0;128;0;01m\"priority\"\u001b[39;00m: \u001b[38;2;186;33;33m\"Normal\"\u001b[39m,\n",
      "                \u001b[38;2;0;128;0;01m\"start_date\"\u001b[39;00m: \u001b[38;2;186;33;33m\"2016-01-01\"\u001b[39m,\n",
      "                \u001b[38;2;0;128;0;01m\"total_amount_of_all_fees\"\u001b[39;00m: \u001b[38;2;102;102;102m442.7010148294154\u001b[39m,\n",
      "                \u001b[38;2;0;128;0;01m\"type\"\u001b[39;00m: \u001b[38;2;186;33;33m\"Monthly\"\u001b[39m\n",
      "            },\n",
      "            {\n",
      "                \u001b[38;2;0;128;0;01m\"aggregate_retail_spend\"\u001b[39;00m: \u001b[38;2;102;102;102m0.0\u001b[39m,\n",
      "                \u001b[38;2;0;128;0;01m\"average_sentiment_score\"\u001b[39;00m: \u001b[38;2;186;33;33m\"2\"\u001b[39m,\n",
      "                \u001b[38;2;0;128;0;01m\"customer_id\"\u001b[39;00m: \u001b[38;2;186;33;33m\"5363\"\u001b[39m,\n",
      "                \u001b[38;2;0;128;0;01m\"end_date\"\u001b[39;00m: \u001b[38;2;186;33;33m\"2016-02-28\"\u001b[39m,\n",
      "                \u001b[38;2;0;128;0;01m\"latest_sentiment_score\"\u001b[39;00m: \u001b[38;2;186;33;33m\"2\"\u001b[39m,\n",
      "                \u001b[38;2;0;128;0;01m\"log_ins_market_downturn\"\u001b[39;00m: \u001b[38;2;102;102;102m99\u001b[39m,\n",
      "                \u001b[38;2;0;128;0;01m\"log_ins_market_upturn\"\u001b[39;00m: \u001b[38;2;102;102;102m99\u001b[39m,\n",
      "                \u001b[38;2;0;128;0;01m\"number_of_active_accounts\"\u001b[39;00m: \u001b[38;2;102;102;102m2\u001b[39m,\n",
      "                \u001b[38;2;0;128;0;01m\"number_of_communications\"\u001b[39;00m: \u001b[38;2;102;102;102m6\u001b[39m,\n",
      "                \u001b[38;2;0;128;0;01m\"number_of_new_accounts_opened\"\u001b[39;00m: \u001b[38;2;102;102;102m0\u001b[39m,\n",
      "                \u001b[38;2;0;128;0;01m\"number_of_trading_periods\"\u001b[39;00m: \u001b[38;2;102;102;102m13\u001b[39m,\n",
      "                \u001b[38;2;0;128;0;01m\"number_of_transactions\"\u001b[39;00m: \u001b[38;2;102;102;102m1\u001b[39m,\n",
      "                \u001b[38;2;0;128;0;01m\"priority\"\u001b[39;00m: \u001b[38;2;186;33;33m\"Normal\"\u001b[39m,\n",
      "                \u001b[38;2;0;128;0;01m\"start_date\"\u001b[39;00m: \u001b[38;2;186;33;33m\"2016-02-01\"\u001b[39m,\n",
      "                \u001b[38;2;0;128;0;01m\"total_amount_of_all_fees\"\u001b[39;00m: \u001b[38;2;102;102;102m425.91180581932565\u001b[39m,\n",
      "                \u001b[38;2;0;128;0;01m\"type\"\u001b[39;00m: \u001b[38;2;186;33;33m\"Monthly\"\u001b[39m\n",
      "            },\n",
      "            {\n",
      "                \u001b[38;2;0;128;0;01m\"aggregate_retail_spend\"\u001b[39;00m: \u001b[38;2;102;102;102m0.0\u001b[39m,\n",
      "                \u001b[38;2;0;128;0;01m\"average_sentiment_score\"\u001b[39;00m: \u001b[38;2;186;33;33m\"0\"\u001b[39m,\n",
      "                \u001b[38;2;0;128;0;01m\"customer_id\"\u001b[39;00m: \u001b[38;2;186;33;33m\"5363\"\u001b[39m,\n",
      "                \u001b[38;2;0;128;0;01m\"end_date\"\u001b[39;00m: \u001b[38;2;186;33;33m\"2016-03-31\"\u001b[39m,\n",
      "                \u001b[38;2;0;128;0;01m\"latest_sentiment_score\"\u001b[39;00m: \u001b[38;2;186;33;33m\"0\"\u001b[39m,\n",
      "                \u001b[38;2;0;128;0;01m\"log_ins_market_downturn\"\u001b[39;00m: \u001b[38;2;102;102;102m99\u001b[39m,\n",
      "                \u001b[38;2;0;128;0;01m\"log_ins_market_upturn\"\u001b[39;00m: \u001b[38;2;102;102;102m99\u001b[39m,\n",
      "                \u001b[38;2;0;128;0;01m\"number_of_active_accounts\"\u001b[39;00m: \u001b[38;2;102;102;102m2\u001b[39m,\n",
      "                \u001b[38;2;0;128;0;01m\"number_of_communications\"\u001b[39;00m: \u001b[38;2;102;102;102m1\u001b[39m,\n",
      "                \u001b[38;2;0;128;0;01m\"number_of_new_accounts_opened\"\u001b[39;00m: \u001b[38;2;102;102;102m0\u001b[39m,\n",
      "                \u001b[38;2;0;128;0;01m\"number_of_trading_periods\"\u001b[39;00m: \u001b[38;2;102;102;102m14\u001b[39m,\n",
      "                \u001b[38;2;0;128;0;01m\"number_of_transactions\"\u001b[39;00m: \u001b[38;2;102;102;102m2\u001b[39m,\n",
      "                \u001b[38;2;0;128;0;01m\"priority\"\u001b[39;00m: \u001b[38;2;186;33;33m\"Normal\"\u001b[39m,\n",
      "                \u001b[38;2;0;128;0;01m\"start_date\"\u001b[39;00m: \u001b[38;2;186;33;33m\"2016-03-01\"\u001b[39m,\n",
      "                \u001b[38;2;0;128;0;01m\"total_amount_of_all_fees\"\u001b[39;00m: \u001b[38;2;102;102;102m329.3902158653942\u001b[39m,\n",
      "                \u001b[38;2;0;128;0;01m\"type\"\u001b[39;00m: \u001b[38;2;186;33;33m\"Monthly\"\u001b[39m\n",
      "            },\n",
      "            {\n",
      "                \u001b[38;2;0;128;0;01m\"aggregate_retail_spend\"\u001b[39;00m: \u001b[38;2;102;102;102m0.0\u001b[39m,\n",
      "                \u001b[38;2;0;128;0;01m\"average_sentiment_score\"\u001b[39;00m: \u001b[38;2;186;33;33m\"1\"\u001b[39m,\n",
      "                \u001b[38;2;0;128;0;01m\"customer_id\"\u001b[39;00m: \u001b[38;2;186;33;33m\"5363\"\u001b[39m,\n",
      "                \u001b[38;2;0;128;0;01m\"end_date\"\u001b[39;00m: \u001b[38;2;186;33;33m\"2016-04-30\"\u001b[39m,\n",
      "                \u001b[38;2;0;128;0;01m\"latest_sentiment_score\"\u001b[39;00m: \u001b[38;2;186;33;33m\"1\"\u001b[39m,\n",
      "                \u001b[38;2;0;128;0;01m\"log_ins_market_downturn\"\u001b[39;00m: \u001b[38;2;102;102;102m99\u001b[39m,\n",
      "                \u001b[38;2;0;128;0;01m\"log_ins_market_upturn\"\u001b[39;00m: \u001b[38;2;102;102;102m99\u001b[39m,\n",
      "                \u001b[38;2;0;128;0;01m\"number_of_active_accounts\"\u001b[39;00m: \u001b[38;2;102;102;102m2\u001b[39m,\n",
      "                \u001b[38;2;0;128;0;01m\"number_of_communications\"\u001b[39;00m: \u001b[38;2;102;102;102m1\u001b[39m,\n",
      "                \u001b[38;2;0;128;0;01m\"number_of_new_accounts_opened\"\u001b[39;00m: \u001b[38;2;102;102;102m0\u001b[39m,\n",
      "                \u001b[38;2;0;128;0;01m\"number_of_trading_periods\"\u001b[39;00m: \u001b[38;2;102;102;102m15\u001b[39m,\n",
      "                \u001b[38;2;0;128;0;01m\"number_of_transactions\"\u001b[39;00m: \u001b[38;2;102;102;102m2\u001b[39m,\n",
      "                \u001b[38;2;0;128;0;01m\"priority\"\u001b[39;00m: \u001b[38;2;186;33;33m\"Normal\"\u001b[39m,\n",
      "                \u001b[38;2;0;128;0;01m\"start_date\"\u001b[39;00m: \u001b[38;2;186;33;33m\"2016-04-01\"\u001b[39m,\n",
      "                \u001b[38;2;0;128;0;01m\"total_amount_of_all_fees\"\u001b[39;00m: \u001b[38;2;102;102;102m269.67830669026\u001b[39m,\n",
      "                \u001b[38;2;0;128;0;01m\"type\"\u001b[39;00m: \u001b[38;2;186;33;33m\"Monthly\"\u001b[39m\n",
      "            },\n",
      "            {\n",
      "                \u001b[38;2;0;128;0;01m\"aggregate_retail_spend\"\u001b[39;00m: \u001b[38;2;102;102;102m0.0\u001b[39m,\n",
      "                \u001b[38;2;0;128;0;01m\"average_sentiment_score\"\u001b[39;00m: \u001b[38;2;186;33;33m\"5\"\u001b[39m,\n",
      "                \u001b[38;2;0;128;0;01m\"customer_id\"\u001b[39;00m: \u001b[38;2;186;33;33m\"5363\"\u001b[39m,\n",
      "                \u001b[38;2;0;128;0;01m\"end_date\"\u001b[39;00m: \u001b[38;2;186;33;33m\"2016-05-31\"\u001b[39m,\n",
      "                \u001b[38;2;0;128;0;01m\"latest_sentiment_score\"\u001b[39;00m: \u001b[38;2;186;33;33m\"5\"\u001b[39m,\n",
      "                \u001b[38;2;0;128;0;01m\"log_ins_market_downturn\"\u001b[39;00m: \u001b[38;2;102;102;102m99\u001b[39m,\n",
      "                \u001b[38;2;0;128;0;01m\"log_ins_market_upturn\"\u001b[39;00m: \u001b[38;2;102;102;102m99\u001b[39m,\n",
      "                \u001b[38;2;0;128;0;01m\"number_of_active_accounts\"\u001b[39;00m: \u001b[38;2;102;102;102m2\u001b[39m,\n",
      "                \u001b[38;2;0;128;0;01m\"number_of_communications\"\u001b[39;00m: \u001b[38;2;102;102;102m0\u001b[39m,\n",
      "                \u001b[38;2;0;128;0;01m\"number_of_new_accounts_opened\"\u001b[39;00m: \u001b[38;2;102;102;102m0\u001b[39m,\n",
      "                \u001b[38;2;0;128;0;01m\"number_of_trading_periods\"\u001b[39;00m: \u001b[38;2;102;102;102m16\u001b[39m,\n",
      "                \u001b[38;2;0;128;0;01m\"number_of_transactions\"\u001b[39;00m: \u001b[38;2;102;102;102m1\u001b[39m,\n",
      "                \u001b[38;2;0;128;0;01m\"priority\"\u001b[39;00m: \u001b[38;2;186;33;33m\"Normal\"\u001b[39m,\n",
      "                \u001b[38;2;0;128;0;01m\"start_date\"\u001b[39;00m: \u001b[38;2;186;33;33m\"2016-05-01\"\u001b[39m,\n",
      "                \u001b[38;2;0;128;0;01m\"total_amount_of_all_fees\"\u001b[39;00m: \u001b[38;2;102;102;102m172.36396796101386\u001b[39m,\n",
      "                \u001b[38;2;0;128;0;01m\"type\"\u001b[39;00m: \u001b[38;2;186;33;33m\"Monthly\"\u001b[39m\n",
      "            },\n",
      "            {\n",
      "                \u001b[38;2;0;128;0;01m\"aggregate_retail_spend\"\u001b[39;00m: \u001b[38;2;102;102;102m0.0\u001b[39m,\n",
      "                \u001b[38;2;0;128;0;01m\"average_sentiment_score\"\u001b[39;00m: \u001b[38;2;186;33;33m\"2\"\u001b[39m,\n",
      "                \u001b[38;2;0;128;0;01m\"customer_id\"\u001b[39;00m: \u001b[38;2;186;33;33m\"5363\"\u001b[39m,\n",
      "                \u001b[38;2;0;128;0;01m\"end_date\"\u001b[39;00m: \u001b[38;2;186;33;33m\"2016-06-30\"\u001b[39m,\n",
      "                \u001b[38;2;0;128;0;01m\"latest_sentiment_score\"\u001b[39;00m: \u001b[38;2;186;33;33m\"2\"\u001b[39m,\n",
      "                \u001b[38;2;0;128;0;01m\"log_ins_market_downturn\"\u001b[39;00m: \u001b[38;2;102;102;102m99\u001b[39m,\n",
      "                \u001b[38;2;0;128;0;01m\"log_ins_market_upturn\"\u001b[39;00m: \u001b[38;2;102;102;102m99\u001b[39m,\n",
      "                \u001b[38;2;0;128;0;01m\"number_of_active_accounts\"\u001b[39;00m: \u001b[38;2;102;102;102m2\u001b[39m,\n",
      "                \u001b[38;2;0;128;0;01m\"number_of_communications\"\u001b[39;00m: \u001b[38;2;102;102;102m3\u001b[39m,\n",
      "                \u001b[38;2;0;128;0;01m\"number_of_new_accounts_opened\"\u001b[39;00m: \u001b[38;2;102;102;102m0\u001b[39m,\n",
      "                \u001b[38;2;0;128;0;01m\"number_of_trading_periods\"\u001b[39;00m: \u001b[38;2;102;102;102m17\u001b[39m,\n",
      "                \u001b[38;2;0;128;0;01m\"number_of_transactions\"\u001b[39;00m: \u001b[38;2;102;102;102m1\u001b[39m,\n",
      "                \u001b[38;2;0;128;0;01m\"priority\"\u001b[39;00m: \u001b[38;2;186;33;33m\"Normal\"\u001b[39m,\n",
      "                \u001b[38;2;0;128;0;01m\"start_date\"\u001b[39;00m: \u001b[38;2;186;33;33m\"2016-06-01\"\u001b[39m,\n",
      "                \u001b[38;2;0;128;0;01m\"total_amount_of_all_fees\"\u001b[39;00m: \u001b[38;2;102;102;102m113.92924801799124\u001b[39m,\n",
      "                \u001b[38;2;0;128;0;01m\"type\"\u001b[39;00m: \u001b[38;2;186;33;33m\"Monthly\"\u001b[39m\n",
      "            },\n",
      "            {\n",
      "                \u001b[38;2;0;128;0;01m\"aggregate_retail_spend\"\u001b[39;00m: \u001b[38;2;102;102;102m0.0\u001b[39m,\n",
      "                \u001b[38;2;0;128;0;01m\"average_sentiment_score\"\u001b[39;00m: \u001b[38;2;186;33;33m\"4\"\u001b[39m,\n",
      "                \u001b[38;2;0;128;0;01m\"customer_id\"\u001b[39;00m: \u001b[38;2;186;33;33m\"5363\"\u001b[39m,\n",
      "                \u001b[38;2;0;128;0;01m\"end_date\"\u001b[39;00m: \u001b[38;2;186;33;33m\"2016-07-31\"\u001b[39m,\n",
      "                \u001b[38;2;0;128;0;01m\"latest_sentiment_score\"\u001b[39;00m: \u001b[38;2;186;33;33m\"4\"\u001b[39m,\n",
      "                \u001b[38;2;0;128;0;01m\"log_ins_market_downturn\"\u001b[39;00m: \u001b[38;2;102;102;102m99\u001b[39m,\n",
      "                \u001b[38;2;0;128;0;01m\"log_ins_market_upturn\"\u001b[39;00m: \u001b[38;2;102;102;102m99\u001b[39m,\n",
      "                \u001b[38;2;0;128;0;01m\"number_of_active_accounts\"\u001b[39;00m: \u001b[38;2;102;102;102m2\u001b[39m,\n",
      "                \u001b[38;2;0;128;0;01m\"number_of_communications\"\u001b[39;00m: \u001b[38;2;102;102;102m6\u001b[39m,\n",
      "                \u001b[38;2;0;128;0;01m\"number_of_new_accounts_opened\"\u001b[39;00m: \u001b[38;2;102;102;102m0\u001b[39m,\n",
      "                \u001b[38;2;0;128;0;01m\"number_of_trading_periods\"\u001b[39;00m: \u001b[38;2;102;102;102m18\u001b[39m,\n",
      "                \u001b[38;2;0;128;0;01m\"number_of_transactions\"\u001b[39;00m: \u001b[38;2;102;102;102m1\u001b[39m,\n",
      "                \u001b[38;2;0;128;0;01m\"priority\"\u001b[39;00m: \u001b[38;2;186;33;33m\"Normal\"\u001b[39m,\n",
      "                \u001b[38;2;0;128;0;01m\"start_date\"\u001b[39;00m: \u001b[38;2;186;33;33m\"2016-07-01\"\u001b[39m,\n",
      "                \u001b[38;2;0;128;0;01m\"total_amount_of_all_fees\"\u001b[39;00m: \u001b[38;2;102;102;102m85.46903811230172\u001b[39m,\n",
      "                \u001b[38;2;0;128;0;01m\"type\"\u001b[39;00m: \u001b[38;2;186;33;33m\"Monthly\"\u001b[39m\n",
      "            },\n",
      "            {\n",
      "                \u001b[38;2;0;128;0;01m\"aggregate_retail_spend\"\u001b[39;00m: \u001b[38;2;102;102;102m0.0\u001b[39m,\n",
      "                \u001b[38;2;0;128;0;01m\"average_sentiment_score\"\u001b[39;00m: \u001b[38;2;186;33;33m\"1\"\u001b[39m,\n",
      "                \u001b[38;2;0;128;0;01m\"customer_id\"\u001b[39;00m: \u001b[38;2;186;33;33m\"5363\"\u001b[39m,\n",
      "                \u001b[38;2;0;128;0;01m\"end_date\"\u001b[39;00m: \u001b[38;2;186;33;33m\"2016-08-31\"\u001b[39m,\n",
      "                \u001b[38;2;0;128;0;01m\"latest_sentiment_score\"\u001b[39;00m: \u001b[38;2;186;33;33m\"1\"\u001b[39m,\n",
      "                \u001b[38;2;0;128;0;01m\"log_ins_market_downturn\"\u001b[39;00m: \u001b[38;2;102;102;102m99\u001b[39m,\n",
      "                \u001b[38;2;0;128;0;01m\"log_ins_market_upturn\"\u001b[39;00m: \u001b[38;2;102;102;102m99\u001b[39m,\n",
      "                \u001b[38;2;0;128;0;01m\"number_of_active_accounts\"\u001b[39;00m: \u001b[38;2;102;102;102m2\u001b[39m,\n",
      "                \u001b[38;2;0;128;0;01m\"number_of_communications\"\u001b[39;00m: \u001b[38;2;102;102;102m3\u001b[39m,\n",
      "                \u001b[38;2;0;128;0;01m\"number_of_new_accounts_opened\"\u001b[39;00m: \u001b[38;2;102;102;102m0\u001b[39m,\n",
      "                \u001b[38;2;0;128;0;01m\"number_of_trading_periods\"\u001b[39;00m: \u001b[38;2;102;102;102m19\u001b[39m,\n",
      "                \u001b[38;2;0;128;0;01m\"number_of_transactions\"\u001b[39;00m: \u001b[38;2;102;102;102m2\u001b[39m,\n",
      "                \u001b[38;2;0;128;0;01m\"priority\"\u001b[39;00m: \u001b[38;2;186;33;33m\"Normal\"\u001b[39m,\n",
      "                \u001b[38;2;0;128;0;01m\"start_date\"\u001b[39;00m: \u001b[38;2;186;33;33m\"2016-08-01\"\u001b[39m,\n",
      "                \u001b[38;2;0;128;0;01m\"total_amount_of_all_fees\"\u001b[39;00m: \u001b[38;2;102;102;102m89.03464897712048\u001b[39m,\n",
      "                \u001b[38;2;0;128;0;01m\"type\"\u001b[39;00m: \u001b[38;2;186;33;33m\"Monthly\"\u001b[39m\n",
      "            },\n",
      "            {\n",
      "                \u001b[38;2;0;128;0;01m\"aggregate_retail_spend\"\u001b[39;00m: \u001b[38;2;102;102;102m0.0\u001b[39m,\n",
      "                \u001b[38;2;0;128;0;01m\"average_sentiment_score\"\u001b[39;00m: \u001b[38;2;186;33;33m\"5\"\u001b[39m,\n",
      "                \u001b[38;2;0;128;0;01m\"customer_id\"\u001b[39;00m: \u001b[38;2;186;33;33m\"5363\"\u001b[39m,\n",
      "                \u001b[38;2;0;128;0;01m\"end_date\"\u001b[39;00m: \u001b[38;2;186;33;33m\"2016-09-30\"\u001b[39m,\n",
      "                \u001b[38;2;0;128;0;01m\"latest_sentiment_score\"\u001b[39;00m: \u001b[38;2;186;33;33m\"5\"\u001b[39m,\n",
      "                \u001b[38;2;0;128;0;01m\"log_ins_market_downturn\"\u001b[39;00m: \u001b[38;2;102;102;102m99\u001b[39m,\n",
      "                \u001b[38;2;0;128;0;01m\"log_ins_market_upturn\"\u001b[39;00m: \u001b[38;2;102;102;102m99\u001b[39m,\n",
      "                \u001b[38;2;0;128;0;01m\"number_of_active_accounts\"\u001b[39;00m: \u001b[38;2;102;102;102m2\u001b[39m,\n",
      "                \u001b[38;2;0;128;0;01m\"number_of_communications\"\u001b[39;00m: \u001b[38;2;102;102;102m4\u001b[39m,\n",
      "                \u001b[38;2;0;128;0;01m\"number_of_new_accounts_opened\"\u001b[39;00m: \u001b[38;2;102;102;102m0\u001b[39m,\n",
      "                \u001b[38;2;0;128;0;01m\"number_of_trading_periods\"\u001b[39;00m: \u001b[38;2;102;102;102m20\u001b[39m,\n",
      "                \u001b[38;2;0;128;0;01m\"number_of_transactions\"\u001b[39;00m: \u001b[38;2;102;102;102m2\u001b[39m,\n",
      "                \u001b[38;2;0;128;0;01m\"priority\"\u001b[39;00m: \u001b[38;2;186;33;33m\"Normal\"\u001b[39m,\n",
      "                \u001b[38;2;0;128;0;01m\"start_date\"\u001b[39;00m: \u001b[38;2;186;33;33m\"2016-09-01\"\u001b[39m,\n",
      "                \u001b[38;2;0;128;0;01m\"total_amount_of_all_fees\"\u001b[39;00m: \u001b[38;2;102;102;102m41.213190627193306\u001b[39m,\n",
      "                \u001b[38;2;0;128;0;01m\"type\"\u001b[39;00m: \u001b[38;2;186;33;33m\"Monthly\"\u001b[39m\n",
      "            }\n",
      "        ]\n",
      "    }\n",
      "]\n",
      "\n"
     ]
    }
   ],
   "source": [
    "print(\"Retrieve the entire profile of a specific customer \" + str(customer_id))\n",
    "\n",
    "customer_url = \"customers/\" + str(customer_id) + \"/profile\"\n",
    "print(\"GET customer from: \" + base_url + customer_url, end=\"\\r\", flush=True) \n",
    "customerGet = requests.get(base_url + customer_url,headers=head)\n",
    "\n",
    "if customerGet.status_code != 200: \n",
    "    print('\\nAn error occured getting customer') \n",
    "    print('customerGet Status Code: ' + str(customerGet.status_code)) \n",
    "    print(customerGet.text)\n",
    "\n",
    "profile = json.dumps(customerGet.json(), indent=4, sort_keys=True)\n",
    "print(highlight(profile, JsonLexer(), TerminalTrueColorFormatter()))  \n",
    "# remove the comment from the beginning of the line above to see the full results"
   ]
  },
  {
   "cell_type": "markdown",
   "metadata": {},
   "source": [
    "This is clearly too much information to process all at once.  Rather than attempting to do so, let's break it into its key components:\n",
    "* basic information about the client\n",
    "* scores for events - that is, the likelihood that the client will experience a particular event for each of a list of events\n",
    "* scores for products - that is, the likelihood that the client will require (or buy) a particualr product (or service) for each of a list of products\n",
    "* the list of products the client owns, including services to which he or she is subscribed\n",
    "* scores about the client, for example, the likelihood of their departure \n",
    "* summaries of their activities and accounts over the last few months"
   ]
  },
  {
   "cell_type": "markdown",
   "metadata": {},
   "source": [
    "<a href=\"#top\">Return to Top</a>"
   ]
  },
  {
   "cell_type": "markdown",
   "metadata": {},
   "source": [
    "<a id='basic'></a>\n",
    "## Understand Basic Client Information\n",
    "\n",
    "Includes general information about the client.  Note that in some fields, our sample data uses unrealistic placeholder information meant only to show the basic type of information that would be included (e.g., text or a number). \n",
    "\n",
    "This is a very small amount of the overall customer profile information used in the predictive models. It is meant to ensure consistency with the source system while reducing the amount of information exposed through the API. Our APIs have been designed from the ground up using “privacy by design” principles and contain no more information about individual clients than is necessary to drive analytical results. \n",
    "\n",
    "Note that there is no personally identifying information in Client Insights for Wealth Management - neither the API nor the core data used in predictive modeling.  All data is de-identified and managed by a \"Customer ID\".  You will need to link this ID back to an internal reference system to map the results from this API into the context of the advisor dashboard.  Within the solution, however, we do utilize and provide back some key demographic information such as the general location of the client, the length of their relationship with the (advisory) firm, and when the available information was last updated.  Generally, the application used by the advisor, be that some form of Advisor Desktop or CRM, would receive a more complete history and personal information, including the client’s actual name and identity from the financial institution’s own systems. "
   ]
  },
  {
   "cell_type": "code",
   "execution_count": 4,
   "metadata": {},
   "outputs": [],
   "source": [
    "jcomplete_profile = json.loads(profile)[0]\n",
    "jcustomer_info = jcomplete_profile['customer']\n",
    "#print(highlight(json.dumps(jcustomer_info, indent=4, sort_keys=True), JsonLexer(), TerminalTrueColorFormatter())) # remove the comment from the beginning of this line to see the full results\n",
    "dfbasic = json_normalize(jcustomer_info)"
   ]
  },
  {
   "cell_type": "markdown",
   "metadata": {},
   "source": [
    "### Alternative API call\n",
    "\n",
    "The following code can be used to retrieve ONLY this portion of the client information from the API directly.  You may remove the comments and execute the code.  It will produce identical output from the subsequent print statements."
   ]
  },
  {
   "cell_type": "code",
   "execution_count": 5,
   "metadata": {},
   "outputs": [],
   "source": [
    "#print(\"Retrieve a specific customer \" + str(customer_id))\n",
    "\n",
    "#customer_url = \"customers/\" + str(customer_id)\n",
    "#print(\"GET customer from: \" + base_url + customer_url, end=\"\\r\", flush=True) \n",
    "#customerGet = requests.get(base_url + customer_url,headers=head)\n",
    "\n",
    "#if customerGet.status_code != 200: \n",
    "#    print('\\nAn error occured getting customer') \n",
    "#    print('customerGet Status Code: ' + str(customerGet.status_code)) \n",
    "#    print(customerGet.text)\n",
    "\n",
    "#dfbasic = json_normalize(customerGet.json())"
   ]
  },
  {
   "cell_type": "code",
   "execution_count": 6,
   "metadata": {},
   "outputs": [
    {
     "name": "stdout",
     "output_type": "stream",
     "text": [
      "Location:  Canada Manitoba MB\n",
      "Head of Household?  True\n",
      "Current Status:  Active\n",
      "Client Since:  2015-02-26\n",
      "Last Update:  2015-02-26\n",
      "Marketing Opt In:  True\n"
     ]
    }
   ],
   "source": [
    "print(\"Location: \", dfbasic.geographic_area_home[0])\n",
    "print(\"Head of Household? \", dfbasic.head_of_household_indicator[0])\n",
    "print(\"Current Status: \", dfbasic.status[0])\n",
    "print(\"Client Since: \", dfbasic.relationship_start_date[0])\n",
    "print(\"Last Update: \", dfbasic.effective_date[0])\n",
    "print(\"Marketing Opt In: \", dfbasic.advertising_indicator[0])"
   ]
  },
  {
   "cell_type": "markdown",
   "metadata": {},
   "source": [
    "We can also investigate some behaviour summary information over time.  In our sample data set we've replicated much of this history, so expect to see repeating values in the table."
   ]
  },
  {
   "cell_type": "code",
   "execution_count": 7,
   "metadata": {},
   "outputs": [
    {
     "name": "stdout",
     "output_type": "stream",
     "text": [
      "    start_date     type  number_of_active_accounts  log_ins_market_downturn\n",
      "15  2016-05-01  Monthly                          2                       99\n",
      "16  2016-06-01  Monthly                          2                       99\n",
      "17  2016-07-01  Monthly                          2                       99\n",
      "18  2016-08-01  Monthly                          2                       99\n",
      "19  2016-09-01  Monthly                          2                       99\n"
     ]
    }
   ],
   "source": [
    "jsummaries = jcomplete_profile['summaries']\n",
    "#print(highlight(json.dumps(jsummaries, indent=4, sort_keys=True), JsonLexer(), TerminalTrueColorFormatter())) \n",
    "# remove the comment from the beginning of the line above to see the full results\n",
    "recent = pd.DataFrame.from_dict(jsummaries)\n",
    "print(recent[['start_date','type','number_of_active_accounts', 'log_ins_market_downturn']][-5:])"
   ]
  },
  {
   "cell_type": "markdown",
   "metadata": {},
   "source": [
    "<a href=\"#top\">Return to Top</a>"
   ]
  },
  {
   "cell_type": "markdown",
   "metadata": {},
   "source": [
    "<a id='leave'></a>\n",
    "## Retain clients - propensity for attrition\n",
    "\n",
    "The most fundamental prediction we make concerning the client is their propensity to leave the advisor.  Client retention is a challenge in the fast-paced environment of today's wealth management firms and often a source of decreased revenues.  The goal of retaining clients - preventing attrition - if often high on an advisor's list.  \n",
    "\n",
    "We can see predicted values for the client's propensity to attrite (i.e., leave) in the table below.  They are identified by the score_code \"ATTRITION\".  The table shows several values at an effective_date (the date at which the prediction was computed) and forecast_horizon (the length of time into the future that was considered in the prediction.  For example, a score_value of 0.251 on effective_date 2017-12-31 over a forecast_horizon of 1 means that there is a 25.1% chance that the client will leave between Jan 1, 2018 and March 31, 2018 given data up to the end of the prior December."
   ]
  },
  {
   "cell_type": "code",
   "execution_count": 8,
   "metadata": {},
   "outputs": [
    {
     "name": "stdout",
     "output_type": "stream",
     "text": [
      "             score_code  forecast_horizon effective_date  score_value\n",
      "0  DYNAMIC_SEGMENTATION                 0     2017-12-31          NaN\n",
      "1             ATTRITION                 1     2017-12-31     0.122864\n",
      "2             ATTRITION                 3     2017-12-31     0.545700\n",
      "3             ATTRITION                 6     2017-12-31     0.892328\n"
     ]
    }
   ],
   "source": [
    "jscores = jcomplete_profile['scores']\n",
    "#print(highlight(json.dumps(jscores, indent=4, sort_keys=True), JsonLexer(), TerminalTrueColorFormatter())) \n",
    "# remove the comment from the beginning of the line above to see the full results\n",
    "\n",
    "# Convert to a data frame and show all products owned by this client\n",
    "sdf = pd.DataFrame.from_dict(jscores)\n",
    "print(sdf[['score_code','forecast_horizon','effective_date', 'score_value']])"
   ]
  },
  {
   "cell_type": "markdown",
   "metadata": {},
   "source": [
    "We will return later to look into the meaning of \"dynamic segmentation.\""
   ]
  },
  {
   "cell_type": "markdown",
   "metadata": {},
   "source": [
    "### Alternative API call\n",
    "\n",
    "The following code can be used to retrieve ONLY this portion of the information from the API directly.  You may remove the comments and execute the code.  It will produce identical output from the subsequent print statements."
   ]
  },
  {
   "cell_type": "code",
   "execution_count": 9,
   "metadata": {},
   "outputs": [],
   "source": [
    "#resp_json = []\n",
    "#while True:\n",
    "#    scores_url = \"customers/\" + str(customer_id) + \"/scores?page_size=\" + str(page_size) + \"&page=\" + str(page) + \"&score_code=ATTRITION&effective_date=\"+effective_date\n",
    "#    print(\"GET page \" + str(page) + \" from: \" + base_url + scores_url, end=\"\\r\", flush=True)\n",
    "#    scoresGet = requests.get(base_url + scores_url,headers=head)\n",
    "#    if scoresGet.status_code != 200 or scoresGet.json() == []: break\n",
    "#    page = page + 1\n",
    "#    resp_json = resp_json + scoresGet.json()\n",
    "#\n",
    "#if scoresGet.status_code != 200:\n",
    "#    print('\\nAn error occured getting scores')\n",
    "#    print('scoresGet Status Code: ' + str(scoresGet.status_code))\n",
    "#    print(scoresGet.text)\n",
    "#    \n",
    "#dfscores = json_normalize(resp_json)\n",
    "#json_str = json.dumps(resp_json, indent=4, sort_keys=True)\n",
    "#print(\"\\n\")\n",
    "#jdf = pd.DataFrame.from_dict(json.loads(json_str))\n",
    "#print(jdf[['score_code','forecast_horizon','effective_date', 'score_value']])"
   ]
  },
  {
   "cell_type": "markdown",
   "metadata": {},
   "source": [
    "<a href=\"#top\">Return to Top</a>"
   ]
  },
  {
   "cell_type": "markdown",
   "metadata": {},
   "source": [
    "<a id='product'></a>\n",
    "## Assess needs by product"
   ]
  },
  {
   "cell_type": "code",
   "execution_count": 10,
   "metadata": {},
   "outputs": [
    {
     "name": "stdout",
     "output_type": "stream",
     "text": [
      "\n",
      "The client owns the following products:\n",
      "\n",
      "           name  status line_of_business\n",
      "0     Brokerage  Active    Mass Affluent\n",
      "1  Cash Savings  Active    Mass Affluent\n"
     ]
    }
   ],
   "source": [
    "jproducts = jcomplete_profile['products']\n",
    "#print(highlight(json.dumps(jproducts, indent=4, sort_keys=True), JsonLexer(), TerminalTrueColorFormatter())) \n",
    "# remove the comment from the beginning of the line above to see the full results\n",
    "\n",
    "print(\"\\nThe client owns the following products:\\n\")\n",
    "# Convert to a data frame and show all products owned by this client\n",
    "pdf = pd.DataFrame.from_dict(jproducts)\n",
    "print(pdf[['name','status','line_of_business']])"
   ]
  },
  {
   "cell_type": "code",
   "execution_count": 11,
   "metadata": {},
   "outputs": [],
   "source": [
    "# JSON INTERPRETATION - direct, without the use of dataframes\n",
    "# Show the first product owned by this client directly from json (insert a loop to see them all easily)\n",
    "#dfbasic = json_normalize(jproducts)\n",
    "#print(\"First product name: \", dfbasic.name[0])\n",
    "#print(\"First product status: \", dfbasic.status[0])\n",
    "#print(\"First product line of business: \", dfbasic.line_of_business[0])\n",
    "#print(\"\\n\")"
   ]
  },
  {
   "cell_type": "code",
   "execution_count": 12,
   "metadata": {},
   "outputs": [
    {
     "name": "stdout",
     "output_type": "stream",
     "text": [
      "\n",
      "Based on the buying habits and requirements of other clients, this client may soon require some of the following products:\n",
      "\n",
      "      product_id effective_date  score_value\n",
      "0  FinancialPlan     2017-12-31     0.690096\n"
     ]
    }
   ],
   "source": [
    "jproduct_scores = jcomplete_profile['product_scores']\n",
    "#print(highlight(json.dumps(jproduct_scores, indent=4, sort_keys=True), JsonLexer(), TerminalTrueColorFormatter())) \n",
    "# remove the comment from the beginning of the line above to see the full results\n",
    "print(\"\\nBased on the buying habits and requirements of other clients, this client may soon require some of the following products:\\n\")\n",
    "psdf = pd.DataFrame.from_dict(jproduct_scores)\n",
    "print(psdf[['product_id','effective_date', 'score_value']])"
   ]
  },
  {
   "cell_type": "markdown",
   "metadata": {},
   "source": [
    "Above we can see the likelihood (score_value) of various products (product_id) appealing to the client at this point in time, as calculated on the shown effective_date."
   ]
  },
  {
   "cell_type": "markdown",
   "metadata": {},
   "source": [
    "### Alternative API call\n",
    "\n",
    "The following code can be used to retrieve ONLY this portion of the information from the API directly.  You may remove the comments and execute the code.  It will produce identical output from the subsequent print statements."
   ]
  },
  {
   "cell_type": "code",
   "execution_count": 13,
   "metadata": {},
   "outputs": [],
   "source": [
    "#resp_json = []\n",
    "#while True:\n",
    "#    scores_url = \"customers/\" + str(customer_id) + \"/product_scores?page_size=\" + str(page_size) + \"&page=\" + str(page) + \"&effective_date=\"+effective_date\n",
    "#    print(\"GET page \" + str(page) + \" from: \" + base_url + scores_url, end=\"\\r\", flush=True)\n",
    "#    scoresGet = requests.get(base_url + scores_url,headers=head)\n",
    "#    if scoresGet.status_code != 200 or scoresGet.json() == [] : break\n",
    "#    page = page + 1\n",
    "#    resp_json = resp_json + scoresGet.json()\n",
    "#    \n",
    "#if scoresGet.status_code != 200:\n",
    "#    print('\\nAn error occured getting scores')\n",
    "#    print('scoresGet Status Code: ' + str(scoresGet.status_code))\n",
    "#    print(scoresGet.text)\n",
    "#\n",
    "#dfpp = json_normalize(resp_json)\n",
    "#json_str = json.dumps(resp_json, indent=4, sort_keys=True)\n",
    "#print(\"\\n\")\n",
    "#print(highlight(json_str, JsonLexer(), TerminalTrueColorFormatter()))"
   ]
  },
  {
   "cell_type": "markdown",
   "metadata": {},
   "source": [
    "<a href=\"#top\">Return to Top</a>"
   ]
  },
  {
   "cell_type": "markdown",
   "metadata": {},
   "source": [
    "<a id='life'></a>\n",
    "## Identify upcoming life events"
   ]
  },
  {
   "cell_type": "code",
   "execution_count": 14,
   "metadata": {},
   "outputs": [
    {
     "name": "stdout",
     "output_type": "stream",
     "text": [
      "       event_type_id  forecast_horizon effective_date  score_value\n",
      "0  LFE_HOME_PURCHASE                 3     2017-12-31     0.003257\n",
      "1     LFE_RELOCATION                 3     2017-12-31     0.011459\n"
     ]
    }
   ],
   "source": [
    "jevent_scores = jcomplete_profile['event_scores']\n",
    "#print(highlight(json.dumps(jevent_scores, indent=4, sort_keys=True), JsonLexer(), TerminalTrueColorFormatter())) \n",
    "# remove the comment from the beginning of the line above to see the full results\n",
    "\n",
    "# Convert to a data frame and show all flagged life events for this client\n",
    "esdf = pd.DataFrame.from_dict(jevent_scores)\n",
    "print(esdf[['event_type_id','forecast_horizon','effective_date', 'score_value']])"
   ]
  },
  {
   "cell_type": "markdown",
   "metadata": {},
   "source": [
    "Above we see various types of life events (event_type_id) that we are predicting may occur with (forecast_horizon) months of the effective_date.  The probability of the occurence, often quite low, is shown in score_value."
   ]
  },
  {
   "cell_type": "markdown",
   "metadata": {},
   "source": [
    "### Alternative API call\n",
    "\n",
    "The following code can be used to retrieve ONLY this portion of the information from the API directly.  You may remove the comments and execute the code.  It will produce identical output from the subsequent print statements."
   ]
  },
  {
   "cell_type": "code",
   "execution_count": 15,
   "metadata": {},
   "outputs": [],
   "source": [
    "#resp_json = []\n",
    "#page = 0\n",
    "#while True:\n",
    "#    scores_url = \"customers/\" + str(customer_id) + \"/event_scores?page_size=\" + str(page_size) + \"&page=\" + str(page) + \"&effective_date=\"+effective_date\n",
    "#    print(\"GET page \" + str(page) + \" from: \" + base_url + scores_url, end=\"\\r\", flush=True)\n",
    "#    scoresGet = requests.get(base_url + scores_url,headers=head)\n",
    "#    if scoresGet.status_code != 200 or scoresGet.json() == [] : break\n",
    "#    page = page + 1\n",
    "#    resp_json = resp_json + scoresGet.json()\n",
    "#    \n",
    "#if scoresGet.status_code != 200:\n",
    "#    print('\\nAn error occured getting scores')\n",
    "#    print('scoresGet Status Code: ' + str(scoresGet.status_code))\n",
    "#    print(scoresGet.text)\n",
    "#\n",
    "#dflep = json_normalize(resp_json)\n",
    "#json_str = json.dumps(resp_json, indent=4, sort_keys=True)\n",
    "#print(\"\\n\")\n",
    "#print(highlight(json_str, JsonLexer(), TerminalTrueColorFormatter()))"
   ]
  },
  {
   "cell_type": "markdown",
   "metadata": {},
   "source": [
    "<a href=\"#top\">Return to Top</a>"
   ]
  },
  {
   "cell_type": "markdown",
   "metadata": {},
   "source": [
    "<a id='segment'></a>\n",
    "## Segment Clients\n",
    "\n",
    "Finally, let’s examine the customer's similarities to other clients. finding kindred spirits can help provide useful benchmarks and perspectives for clients.  It can also help a financial advisor to better tailor the discussion based on information and insights into the larger group that colleagues have undertaken.  For example, looking for special offers, understanding patterns in product usage, or looking at rates and standards for savings, retirment planning or related activities.\n",
    "\n",
    "You'll recall earlier, when we looked at attrition scores, there was an additional row in the table - one for dynamic segmentation.  It produced 'NaN' as a score_value.  Let's look at that table again and this time, locate the 'segment_id'.  For simplicity, we've removed the 'effective_date' column in this display.  All values are 2017-12-31 for that column."
   ]
  },
  {
   "cell_type": "code",
   "execution_count": 16,
   "metadata": {},
   "outputs": [
    {
     "name": "stdout",
     "output_type": "stream",
     "text": [
      "             score_code  forecast_horizon  score_value segment_id\n",
      "0  DYNAMIC_SEGMENTATION                 0          NaN          1\n",
      "1             ATTRITION                 1     0.122864          8\n",
      "2             ATTRITION                 3     0.545700          9\n",
      "3             ATTRITION                 6     0.892328          8\n"
     ]
    }
   ],
   "source": [
    "print(sdf[['score_code','forecast_horizon','score_value', 'segment_id']])"
   ]
  },
  {
   "cell_type": "markdown",
   "metadata": {},
   "source": [
    "Based on the segment_id for a number of clients, you can compute interesting descriptive statistics such as average credit score, upper and lower bounds for savings rates, average mortgage size, or other benchmark information that your client may find interesting.  Doing so often requires more data (e.g., transaction level or personally identifiable information) that is not stored or used in Client Insights for Wealth Management.  Using a combination of in-house information from source systems and the segment_id can create such value-added benchmarking information."
   ]
  },
  {
   "cell_type": "markdown",
   "metadata": {},
   "source": [
    "The 'dynamic segmentation' row shows the overall categorization of the client - they are in segment 1.  Many common elements can be drawn from this information as described previously.  However, we see that each of the 'attrition' scores is supplemented by an identified segment.  These segments are created only when the client has a certain minimum probability of the event occuring (in this case, of attrition).  Here, segments are very useful in creating target marketing campaigns and common messaging for a group of clients who you are looking to retain (and who are considering leaving!)."
   ]
  },
  {
   "cell_type": "code",
   "execution_count": 17,
   "metadata": {},
   "outputs": [
    {
     "name": "stdout",
     "output_type": "stream",
     "text": [
      "GET page 1 from: https://ci-api.mybluemix.net/api/v2/wealth/customers/5363/scores?page_size=500&page=1&score_code=DYNAMIC_SEGMENTATION&effective_date=2017-12-31\n",
      "\n",
      "[\n",
      "    {\n",
      "        \u001b[38;2;0;128;0;01m\"customer_id\"\u001b[39;00m: \u001b[38;2;186;33;33m\"5363\"\u001b[39m,\n",
      "        \u001b[38;2;0;128;0;01m\"effective_date\"\u001b[39;00m: \u001b[38;2;186;33;33m\"2017-12-31\"\u001b[39m,\n",
      "        \u001b[38;2;0;128;0;01m\"forecast_horizon\"\u001b[39;00m: \u001b[38;2;102;102;102m0\u001b[39m,\n",
      "        \u001b[38;2;0;128;0;01m\"score_code\"\u001b[39;00m: \u001b[38;2;186;33;33m\"DYNAMIC_SEGMENTATION\"\u001b[39m,\n",
      "        \u001b[38;2;0;128;0;01m\"segment_id\"\u001b[39;00m: \u001b[38;2;186;33;33m\"1\"\u001b[39m\n",
      "    }\n",
      "]\n",
      "\n"
     ]
    }
   ],
   "source": [
    "resp_json = []\n",
    "page = 0\n",
    "while True:\n",
    "    seg_url = \"customers/\" + str(customer_id) + \"/scores?page_size=\" + str(page_size) + \"&page=\" + str(page) + \"&score_code=DYNAMIC_SEGMENTATION&effective_date=\"+effective_date\n",
    "    print(\"GET page \" +str(page) + \" from: \" + base_url + seg_url, end=\"\\r\", flush=True)\n",
    "    scoresGet = requests.get(base_url + seg_url,headers=head)\n",
    "    if scoresGet.status_code != 200 or scoresGet.json() == [] : break\n",
    "    page = page + 1\n",
    "    resp_json = resp_json + scoresGet.json()\n",
    "    \n",
    "if scoresGet.status_code != 200:\n",
    "    print('\\nAn error occured getting scores')\n",
    "    print('scoresGet Status Code: ' + str(scoresGet.status_code))\n",
    "    print(scoresGet.text)\n",
    "    \n",
    "dfseg = json_normalize(resp_json)\n",
    "json_str = json.dumps(resp_json, indent=4, sort_keys=True)\n",
    "print(\"\\n\")\n",
    "print(highlight(json_str, JsonLexer(), TerminalTrueColorFormatter()))"
   ]
  },
  {
   "cell_type": "markdown",
   "metadata": {},
   "source": [
    "We can also retrieve additional information from the API to highlight key characteristics of the segments.  This is typically the top five items about the client that help to identify the group and to separate it from all other groups."
   ]
  },
  {
   "cell_type": "code",
   "execution_count": 18,
   "metadata": {},
   "outputs": [
    {
     "name": "stdout",
     "output_type": "stream",
     "text": [
      "\n",
      "Retrieve the attributes that define the segments\n",
      "\n",
      "GET page 1 from: https://ci-api.mybluemix.net/api/v2/wealth/segments?page_size=500&page=1&score_code=DYNAMIC_SEGMENTATION&effective_date=2017-12-31\n",
      "Scores based on query string parameters have been returned\n",
      "Number of records: 50\n",
      "   segment_id  rank                                   column_name  max_value  \\\n",
      "1           1     1                      CUSTOMER_AGE_RANGE_index        3.0   \n",
      "34          1     2         CUSTOMER_NUMBER_OF_DEPENDENT_CHILDREN        2.0   \n",
      "41          1     3    CUSTOMER_SUMMARY_NUMBER_OF_ACTIVE_ACCOUNTS        4.0   \n",
      "46          1     4   CUSTOMER_SUMMARY_TOTAL_NUMBER_OF_BUY_TRADES        1.0   \n",
      "49          1     5  CUSTOMER_SUMMARY_TOTAL_NUMBER_OF_SELL_TRADES        1.0   \n",
      "\n",
      "    min_value  \n",
      "1         0.0  \n",
      "34        0.0  \n",
      "41        1.0  \n",
      "46        0.0  \n",
      "49        0.0  \n"
     ]
    }
   ],
   "source": [
    "print(\"\\nRetrieve the attributes that define the segments\\n\")\n",
    "resp_json = []\n",
    "page = 0\n",
    "while True:\n",
    "    seg_url = \"segments?page_size=\" + str(page_size) + \"&page=\" + str(page) + \"&score_code=DYNAMIC_SEGMENTATION&effective_date=\"+effective_date\n",
    "    print(\"GET page \" + str(page) + \" from: \" + base_url + seg_url, end=\"\\r\", flush=True)\n",
    "    scoresGet = requests.get(base_url + seg_url,headers=head)\n",
    "    if scoresGet.status_code != 200 or scoresGet.json() == [] : break\n",
    "    page = page + 1\n",
    "    resp_json = resp_json + scoresGet.json()\n",
    "    \n",
    "if scoresGet.status_code == 200:\n",
    "    print('\\nScores based on query string parameters have been returned')\n",
    "    print('Number of records: ' + str(len(resp_json)))\n",
    "else:\n",
    "    print('\\nAn error occured getting scores')\n",
    "    print('scoresGet Status Code: ' + str(scoresGet.status_code))\n",
    "    print(scoresGet.text)\n",
    "    \n",
    "dfsegdesc = json_normalize(resp_json).sort_values(['segment_id','rank'], ascending=True)\n",
    "dfsegdesc = dfsegdesc[['segment_id','rank', 'column_name', 'max_value', 'min_value']]\n",
    "\n",
    "print(dfsegdesc.loc[dfsegdesc.segment_id==dfseg.segment_id[0]])"
   ]
  },
  {
   "cell_type": "markdown",
   "metadata": {},
   "source": [
    "<a href=\"#top\">Return to Top</a>"
   ]
  },
  {
   "cell_type": "markdown",
   "metadata": {},
   "source": [
    "<a id='why'></a>\n",
    "## Determine underlying reasons\n",
    "#### Understanding the drivers behind the scores\n",
    "\n",
    "### Example: Attrition"
   ]
  },
  {
   "cell_type": "markdown",
   "metadata": {},
   "source": [
    "One of the common questions advisors ask is \"Why is the likelihood of leaving so high?\"  To answer that question, we look at the three main factors (or features) that impact the likelihood for this particular client."
   ]
  },
  {
   "cell_type": "code",
   "execution_count": 19,
   "metadata": {},
   "outputs": [
    {
     "name": "stdout",
     "output_type": "stream",
     "text": [
      "We can see within the next 3 month(s), as shown in the forecast_horizon,\n",
      "the drivers behind this assessment are: \n",
      "  CUSTOMER_FAMILY_SIZE \n",
      "  CUSTOMER_NUMBER_OF_DEPENDENT_CHILDREN \n",
      "  CUSTOMER_AGE_RANGE\n"
     ]
    }
   ],
   "source": [
    "print(\"We can see within the next {fh} month(s), as shown in the forecast_horizon,\".format(fh = jscores[2][\"forecast_horizon\"]))\n",
    "print(\"the drivers behind this assessment are: \\n  {f1} \\n  {f2} \\n  {f3}\".format(f1 = jscores[2][\"feature_1_column\"],\n",
    "                                                                                         f2 = jscores[2][\"feature_2_column\"],\n",
    "                                                                                         f3 = jscores[2][\"feature_3_column\"]))"
   ]
  },
  {
   "cell_type": "markdown",
   "metadata": {},
   "source": [
    "Please note that the three most important factors that influenced the scores are different for each forecast horizon. For this client, although the number of dependent children is not in the above list, it will be a critical issue later on. The financial advisor may want to dig into this upcoming issue as well."
   ]
  },
  {
   "cell_type": "markdown",
   "metadata": {},
   "source": [
    "<a href=\"#top\">Return to Top</a>"
   ]
  },
  {
   "cell_type": "markdown",
   "metadata": {},
   "source": [
    "<a id='trend'></a>\n",
    "## Gain perspective\n",
    "#### Seeing scores over time"
   ]
  },
  {
   "cell_type": "markdown",
   "metadata": {},
   "source": [
    "The financial advisor may consider introducing the product to this client during the meeting. The financial advisor can also examine the history of propensity scores of this client to have a deeper understand of the client's need. In this example, we will examine the change in propensity scores over the past 6 months."
   ]
  },
  {
   "cell_type": "code",
   "execution_count": 20,
   "metadata": {},
   "outputs": [
    {
     "name": "stdout",
     "output_type": "stream",
     "text": [
      "GET page 1 from: https://ci-api.mybluemix.net/api/v2/wealth/customers/5363/product_scores?page_size=500&page=1&effective_date=2017-07-31\n",
      "\n"
     ]
    },
    {
     "data": {
      "text/plain": [
       "[<matplotlib.lines.Line2D at 0x113a86198>]"
      ]
     },
     "execution_count": 20,
     "metadata": {},
     "output_type": "execute_result"
    },
    {
     "data": {
      "image/png": "[encoded data removed]",
      "text/plain": [
       "<Figure size 432x288 with 1 Axes>"
      ]
     },
     "metadata": {},
     "output_type": "display_data"
    }
   ],
   "source": [
    "# Get the scores over history\n",
    "# Query String parameters: customer_id, page_size, page, effective_date\n",
    "\n",
    "resp_json = []\n",
    "history = [\"2017-12-31\", \"2017-11-30\", \"2017-10-31\", \"2017-09-30\", \"2017-08-31\", \"2017-07-31\"]\n",
    "for effective_date in history:\n",
    "    page = 0\n",
    "    while True:\n",
    "        scores_url = \"customers/\" + str(customer_id) + \"/product_scores?page_size=\" + str(page_size) + \"&page=\" + str(page) + \"&effective_date=\"+effective_date\n",
    "        print(\"GET page \" + str(page) + \" from: \" + base_url + scores_url, end=\"\\r\", flush=True)\n",
    "        scoresGet = requests.get(base_url + scores_url,headers=head)\n",
    "        if scoresGet.status_code != 200 or scoresGet.json() == [] : break\n",
    "        page = page + 1\n",
    "        resp_json = resp_json + scoresGet.json()\n",
    "\n",
    "    if scoresGet.status_code != 200:\n",
    "        print('\\nAn error occured getting scores')\n",
    "        print('scoresGet Status Code: ' + str(scoresGet.status_code))\n",
    "        print(scoresGet.text)\n",
    "\n",
    "dfpp = json_normalize(resp_json)\n",
    "json_str = json.dumps(resp_json, indent=4, sort_keys=True)\n",
    "print(\"\\n\")\n",
    "#print(highlight(json_str, JsonLexer(), TerminalTrueColorFormatter()))\n",
    "plt.plot(dfpp.effective_date,dfpp.score_value)"
   ]
  },
  {
   "cell_type": "markdown",
   "metadata": {},
   "source": [
    "### Example: Product Propensity"
   ]
  },
  {
   "cell_type": "code",
   "execution_count": 21,
   "metadata": {},
   "outputs": [
    {
     "name": "stdout",
     "output_type": "stream",
     "text": [
      "Similar to attrition model, we can also see the features contributed the most are: \n",
      "  PID_MANAGEDPORTFOLIO_CUSTOMER_PRODUCT_SUMMARY_PRODUCT_OWNED_INDICATOR \n",
      "  CUSTOMER_MARKET_GROUP \n",
      "  CUSTOMER_EDUCATION_LEVEL\n"
     ]
    }
   ],
   "source": [
    "print(\"Similar to attrition model, we can also see the features contributed the most are: \\n  {f1} \\n  {f2} \\n  {f3}\".format(f1 = dfpp.feature_1_column[0],\n",
    "                                                                                                                          f2 = dfpp.feature_2_column[0],\n",
    "                                                                                                                          f3 = dfpp.feature_3_column[0]))"
   ]
  },
  {
   "cell_type": "markdown",
   "metadata": {},
   "source": [
    "<a href=\"#top\">Return to Top</a>"
   ]
  },
  {
   "cell_type": "code",
   "execution_count": null,
   "metadata": {},
   "outputs": [],
   "source": []
  }
 ],
 "metadata": {
  "kernelspec": {
   "display_name": "Python 3",
   "language": "python",
   "name": "python3"
  },
  "language_info": {
   "codemirror_mode": {
    "name": "ipython",
    "version": 3
   },
   "file_extension": ".py",
   "mimetype": "text/x-python",
   "name": "python",
   "nbconvert_exporter": "python",
   "pygments_lexer": "ipython3",
   "version": "3.7.0"
  }
 },
 "nbformat": 4,
 "nbformat_minor": 1
}
