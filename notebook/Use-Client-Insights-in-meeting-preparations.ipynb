{
 "cells": [
  {
   "cell_type": "markdown",
   "metadata": {},
   "source": [
    "<a id='top'></a>\n",
    "# Use Client Insights for Wealth Management in meeting preparations\n",
    "\n",
    "This notebook uses sample data to illustrate the types of results and information available in Client Insights for Wealth Management to assist financial advisors in preparing for an upcoming meeting with an existing client.  \n",
    "\n",
    "We'll look at preparing to defend the relationship from a high probability client defection to a competing advisor, gaining insights into the client's recent or impending life changes ahead of time, reviewing existing product ownership and identifying the customer's segment or profile.   \n",
    "\n",
    "This information can assist the advisor in preparing for the meeting by identifying potential new requirements or changes to existing requirements, and by providing a more personal touch through more detailed knowledge of recent events in the client's life or status."
   ]
  },
  {
   "cell_type": "markdown",
   "metadata": {},
   "source": [
    "<a id='scenario'></a>\n",
    "## Scenario\n",
    "Bruce Smith is a financial advisor servicing high net worth households in the Canadian market whose wealth is typically tied to the mining, natural gas, and petroleum industries. Most of his clients are senior executives working for one of two major large Anglo-Australian natural resources multinationals where Bruce has developed an extensive book of business based on personal referrals. \n",
    "\n",
    "Today, Bruce is preparing for a meeting with his longtime client, Alex Anderson, who is relocating his wife Jane and their two children back to the Northwest Territories after a three-year international tour of duty. While the two have stayed in contact, it’s been some time since they’ve met in person.  Bruce wants to make sure he’s well prepared for this meeting in order to re-establish their personal connection and demonstrate the continuing value he’s able to deliver to the Anderson family through highly personalized service and advice to preserve their financial well-being.\n",
    "\n",
    "While Bruce will typically receive insights to help him prepare for this meeting via an Advisor Desktop or CRM that has been pre-integrated with IBM Watson Client Insight for Wealth Management APIs by his parent firm, let’s take a look at how a Data Scientist or Developer interacting directly with these APIs might help Bruce prepare for his upcoming meeting with Alex and Jane."
   ]
  },
  {
   "cell_type": "markdown",
   "metadata": {},
   "source": [
    "## Contents\n",
    "\n",
    "<a href='#env'> Set Up Environment </a>\n",
    "\n",
    "<a href='#profile'> Build Client Profile </a>\n",
    "\n",
    "* <a href='#basic'> Basic Client Information </a>\n",
    "\n",
    "* <a href='#att'> Client Scores </a>\n",
    "\n",
    "* <a href='#clep'> Relevant Life Events </a>\n",
    "\n",
    "* <a href='#segdef'> Segment Description </a>"
   ]
  },
  {
   "cell_type": "markdown",
   "metadata": {},
   "source": [
    "<a id='env'></a>\n",
    "## Set up environment\n"
   ]
  },
  {
   "cell_type": "markdown",
   "metadata": {},
   "source": [
    "Load key modules that we'll use to keep track of time and interact with the REST API."
   ]
  },
  {
   "cell_type": "code",
   "execution_count": 1,
   "metadata": {},
   "outputs": [],
   "source": [
    "import requests\n",
    "import time\n",
    "import json\n",
    "from pandas.io.json import json_normalize\n",
    "from pygments import highlight\n",
    "from pygments.lexers import JsonLexer\n",
    "from pygments.formatters import TerminalFormatter, TerminalTrueColorFormatter"
   ]
  },
  {
   "cell_type": "markdown",
   "metadata": {},
   "source": [
    " ### Setting up API and URL information"
   ]
  },
  {
   "cell_type": "markdown",
   "metadata": {},
   "source": [
    "Enter your API key here.  Note that it should be a string, contained in quotes."
   ]
  },
  {
   "cell_type": "code",
   "execution_count": 2,
   "metadata": {},
   "outputs": [],
   "source": [
    "api_key = \"b981c399-0513-4d29-a9e5-882ef07e8ba9\"\n",
    "# This is a standard, read-only API key offered to you free of charge for use with this notebook"
   ]
  },
  {
   "cell_type": "markdown",
   "metadata": {},
   "source": [
    "Next, we set some base variables that we will use extensively in the API calls.  \n",
    "* base_url - the path to the Client Insights for Wealth Management service on IBM Cloud\n",
    "* api_context - the type of information we're passing to the API\n",
    "* head - the headers we're using with the API to provide context and authorization"
   ]
  },
  {
   "cell_type": "code",
   "execution_count": 3,
   "metadata": {},
   "outputs": [],
   "source": [
    "host = \"ci-api.mybluemix.net\"\n",
    "basePath = \"/api/v2/wealth/\"\n",
    "base_url = \"https://\" + host + basePath\n",
    "api_context = \"application/json\"\n",
    "head = {\"Authorization\" : api_key, \n",
    "        \"Content-Type\" : api_context}"
   ]
  },
  {
   "cell_type": "markdown",
   "metadata": {},
   "source": [
    "<a id='profile'></a>\n",
    "## Build the Client Profile\n",
    "\n",
    "In this section, we'll build a profile for a particular customer. For purposes of illustration, let’s assume that Alex’s customer ID is 5967. We'll retrieve basic information and attrition probability score for Alex and then examine any relevant life events that might affect the Andersons’ financial well-being. Finally, let’s examine the client segmentation into which Alex falls based on his similarity to other clients across Bruce’s book of business. As we go through each element of the profile, comments will discuss potential usage in preparing for our client meeting.\n",
    "\n",
    "<a href='#basic'> Basic Client Information </a>\n",
    "\n",
    "<a href='#att'> Client Attrition Score </a>\n",
    "\n",
    "<a href='#clep'> Relevant Life Events </a>\n",
    "\n",
    "<a href='#segdef'> Segment Description </a>\n"
   ]
  },
  {
   "cell_type": "code",
   "execution_count": 4,
   "metadata": {},
   "outputs": [],
   "source": [
    "# Feel free to try any of the following customer_ids to see different results.\n",
    "# We have written the commentary for customer_id 5967 only, however.\n",
    "customer_id = 1038\n",
    "\n",
    "#customer_id = 5969\n",
    "#customer_id = 1020\n",
    "#customer_id = 5967\n",
    "\n",
    "page_size = 500"
   ]
  },
  {
   "cell_type": "markdown",
   "metadata": {},
   "source": [
    "<a id='basic'></a>\n",
    "### Retrieve Basic Client Information\n",
    "\n",
    "<a href='#profile'> Back to the Client Profile </a>                  \n",
    "\n",
    "<a href='#top'> Back to the top </a>"
   ]
  },
  {
   "cell_type": "code",
   "execution_count": 5,
   "metadata": {},
   "outputs": [
    {
     "name": "stdout",
     "output_type": "stream",
     "text": [
      "Retrieve a specific customer 1038\n",
      "<Response [200]>m: https://ci-api.mybluemix.net/api/v2/wealth/customers/1038\n"
     ]
    }
   ],
   "source": [
    "print(\"Retrieve a specific customer \" + str(customer_id)) \n",
    "\n",
    "customer_url = \"customers/\" + str(customer_id)\n",
    "print(\"GET customer from: \" + base_url + customer_url, end=\"\\r\", flush=True) \n",
    "customerGet = requests.get(base_url + customer_url,headers=head)\n",
    "\n",
    "if customerGet.status_code != 200: \n",
    "    print('\\nAn error occured getting customer') \n",
    "    print('customerGet Status Code: ' + str(customerGet.status_code)) \n",
    "    print(customerGet.text)\n",
    "\n",
    "dfbasic = json_normalize(customerGet.json())\n",
    "print(customerGet)"
   ]
  },
  {
   "cell_type": "markdown",
   "metadata": {},
   "source": [
    "From this information, we can determine key information about our client.  For example, their general location, their place in the household, confirmation that they are currently an active client, their attributed advisor ID (our own, hopefully!) as well as their openness to the use of their data.  \n",
    "\n",
    "It is always important that we have permission to work with the data provided by a client, with the intent of improving the personalization and customization of the services and advice being provided to them."
   ]
  },
  {
   "cell_type": "code",
   "execution_count": 6,
   "metadata": {},
   "outputs": [
    {
     "name": "stdout",
     "output_type": "stream",
     "text": [
      "Location:  USA Idaho\n",
      "Head of Household?  False\n",
      "Current Status:  Active\n",
      "Client Since:  2016-05-27\n",
      "Last Update:  2016-05-27\n",
      "Marketing Opt In:  True\n"
     ]
    }
   ],
   "source": [
    "print(\"Location: \", dfbasic.geographic_area_home[0])\n",
    "print(\"Head of Household? \", dfbasic.head_of_household_indicator[0])\n",
    "print(\"Current Status: \", dfbasic.status[0])\n",
    "print(\"Client Since: \", dfbasic.relationship_start_date[0])\n",
    "print(\"Last Update: \", dfbasic.effective_date[0])\n",
    "print(\"Marketing Opt In: \", dfbasic.advertising_indicator[0])"
   ]
  },
  {
   "cell_type": "markdown",
   "metadata": {},
   "source": [
    "A complete inventory of available fields can be shown below. Note that in some fields, our sample data uses unrealistic placeholder information meant only to show the basic type of information that would be included (e.g., text or a number). \n",
    "\n",
    "This is a very small amount of the overall customer profile information. It is meant to ensure consistency with the source system while reducing the personally identifiable information exposed through the API. Our APIs have been designed from the ground up using “privacy by design” principles and contain no more information about individual clients than is necessary to drive analytical results. \n",
    "\n",
    "Generally, the application used by the advisor, be that some form of Advisor Desktop or CRM, would receive a more complete history and personal information, including the client’s actual name and identity from the financial institution’s own systems. \n"
   ]
  },
  {
   "cell_type": "code",
   "execution_count": 7,
   "metadata": {},
   "outputs": [
    {
     "name": "stdout",
     "output_type": "stream",
     "text": [
      "[\n",
      "    {\n",
      "        \u001b[38;2;0;128;0;01m\"address_last_changed_date\"\u001b[39;00m: \u001b[38;2;186;33;33m\"2012-04-29\"\u001b[39m,\n",
      "        \u001b[38;2;0;128;0;01m\"advertising_indicator\"\u001b[39;00m: \u001b[38;2;0;128;0;01mtrue\u001b[39;00m,\n",
      "        \u001b[38;2;0;128;0;01m\"aggregation_opt_in_indicator\"\u001b[39;00m: \u001b[38;2;0;128;0;01mtrue\u001b[39;00m,\n",
      "        \u001b[38;2;0;128;0;01m\"customer_behavior\"\u001b[39;00m: \u001b[38;2;186;33;33m\"ultricies\"\u001b[39m,\n",
      "        \u001b[38;2;0;128;0;01m\"customer_id\"\u001b[39;00m: \u001b[38;2;186;33;33m\"1038\"\u001b[39m,\n",
      "        \u001b[38;2;0;128;0;01m\"effective_date\"\u001b[39;00m: \u001b[38;2;186;33;33m\"2016-05-27\"\u001b[39m,\n",
      "        \u001b[38;2;0;128;0;01m\"geographic_area_home\"\u001b[39;00m: \u001b[38;2;186;33;33m\"USA Idaho\"\u001b[39m,\n",
      "        \u001b[38;2;0;128;0;01m\"geographic_area_mailing\"\u001b[39;00m: \u001b[38;2;186;33;33m\"USA Idaho\"\u001b[39m,\n",
      "        \u001b[38;2;0;128;0;01m\"geographic_area_work\"\u001b[39;00m: \u001b[38;2;186;33;33m\"USA Idaho\"\u001b[39m,\n",
      "        \u001b[38;2;0;128;0;01m\"head_of_household_indicator\"\u001b[39;00m: \u001b[38;2;0;128;0;01mfalse\u001b[39;00m,\n",
      "        \u001b[38;2;0;128;0;01m\"household_id\"\u001b[39;00m: \u001b[38;2;186;33;33m\"127517\"\u001b[39m,\n",
      "        \u001b[38;2;0;128;0;01m\"importance_level_code\"\u001b[39;00m: \u001b[38;2;186;33;33m\"Normal priority\"\u001b[39m,\n",
      "        \u001b[38;2;0;128;0;01m\"influence_score\"\u001b[39;00m: \u001b[38;2;102;102;102m102075\u001b[39m,\n",
      "        \u001b[38;2;0;128;0;01m\"life_cycle_status_code\"\u001b[39;00m: \u001b[38;2;186;33;33m\"ultricies\"\u001b[39m,\n",
      "        \u001b[38;2;0;128;0;01m\"market_group\"\u001b[39;00m: \u001b[38;2;186;33;33m\"condimentum suscipit\"\u001b[39m,\n",
      "        \u001b[38;2;0;128;0;01m\"preferred_communication_form\"\u001b[39;00m: \u001b[38;2;186;33;33m\"nulla curabitur\"\u001b[39m,\n",
      "        \u001b[38;2;0;128;0;01m\"primary_advisor_organization_id\"\u001b[39;00m: \u001b[38;2;186;33;33m\"1972\"\u001b[39m,\n",
      "        \u001b[38;2;0;128;0;01m\"primary_branch_proximity\"\u001b[39;00m: \u001b[38;2;102;102;102m201.6908655270349\u001b[39m,\n",
      "        \u001b[38;2;0;128;0;01m\"pursuit\"\u001b[39;00m: \u001b[38;2;186;33;33m\"nulla curabitur\"\u001b[39m,\n",
      "        \u001b[38;2;0;128;0;01m\"recorded_voice_sample_id\"\u001b[39;00m: \u001b[38;2;186;33;33m\"106171\"\u001b[39m,\n",
      "        \u001b[38;2;0;128;0;01m\"referrals_value_code\"\u001b[39;00m: \u001b[38;2;186;33;33m\"Very High\"\u001b[39m,\n",
      "        \u001b[38;2;0;128;0;01m\"relationship_start_date\"\u001b[39;00m: \u001b[38;2;186;33;33m\"2016-05-27\"\u001b[39m,\n",
      "        \u001b[38;2;0;128;0;01m\"satisfaction_rating_from_survey\"\u001b[39;00m: \u001b[38;2;186;33;33m\"condimentum suscipit\"\u001b[39m,\n",
      "        \u001b[38;2;0;128;0;01m\"secondary_advisor_id\"\u001b[39;00m: \u001b[38;2;186;33;33m\"90193\"\u001b[39m,\n",
      "        \u001b[38;2;0;128;0;01m\"secondary_advisor_organization_id\"\u001b[39;00m: \u001b[38;2;186;33;33m\"70939\"\u001b[39m,\n",
      "        \u001b[38;2;0;128;0;01m\"status\"\u001b[39;00m: \u001b[38;2;186;33;33m\"Active\"\u001b[39m,\n",
      "        \u001b[38;2;0;128;0;01m\"status_date\"\u001b[39;00m: \u001b[38;2;186;33;33m\"2016-05-27\"\u001b[39m,\n",
      "        \u001b[38;2;0;128;0;01m\"urban_code\"\u001b[39;00m: \u001b[38;2;186;33;33m\"Urban\"\u001b[39m\n",
      "    }\n",
      "]\n",
      "\n"
     ]
    }
   ],
   "source": [
    "json_str = json.dumps(customerGet.json(), indent=4, sort_keys=True)\n",
    "print(highlight(json_str, JsonLexer(), TerminalTrueColorFormatter()))"
   ]
  },
  {
   "cell_type": "markdown",
   "metadata": {},
   "source": [
    "<a id='att'></a>\n",
    "### Retrieve Client Attrition Score\n",
    "\n",
    "<a href='#profile'> Back to the Client Profile </a>                  \n",
    "\n",
    "<a href='#top'> Back to the top </a>"
   ]
  },
  {
   "cell_type": "markdown",
   "metadata": {},
   "source": [
    "In this section we review attrition score for the client. Generally speaking, attrition refers to the likeihood that a given client would leave the firm for another advisor elsewhere. Specifically, we seek to estimate the probability of departure for each client, which can then be used to help monitor the relationship and indicate the need for intervention by the advisor. In preparing for a client meeting, a high score would indicate that the advisor should be prepared to enter into a discussion about the benefits of remaining a client of the firm, dig into sources of issues (see \"features\" below) and investigate promotions, discounts or offers that might help to retain the client.\n"
   ]
  },
  {
   "cell_type": "code",
   "execution_count": 10,
   "metadata": {},
   "outputs": [
    {
     "name": "stdout",
     "output_type": "stream",
     "text": [
      "Retrieve scores for a specific customer 1038\n",
      "GET page 1 from: https://ci-api.mybluemix.net/api/v2/wealth/customers/1038/scores?page_size=500&page=1&score_code=ATTRITION&effective_date=2017-12-31&forecast_horizon=6\n",
      "\n",
      "[\n",
      "    {\n",
      "        \u001b[38;2;0;128;0;01m\"customer_id\"\u001b[39;00m: \u001b[38;2;186;33;33m\"1038\"\u001b[39m,\n",
      "        \u001b[38;2;0;128;0;01m\"effective_date\"\u001b[39;00m: \u001b[38;2;186;33;33m\"2017-12-31\"\u001b[39m,\n",
      "        \u001b[38;2;0;128;0;01m\"feature_1_column\"\u001b[39;00m: \u001b[38;2;186;33;33m\"CUSTOMER_FAMILY_SIZE\"\u001b[39m,\n",
      "        \u001b[38;2;0;128;0;01m\"feature_1_value\"\u001b[39;00m: \u001b[38;2;102;102;102m0.3957820925861597\u001b[39m,\n",
      "        \u001b[38;2;0;128;0;01m\"feature_2_column\"\u001b[39;00m: \u001b[38;2;186;33;33m\"CUSTOMER_NUMBER_OF_DEPENDENT_CHILDREN\"\u001b[39m,\n",
      "        \u001b[38;2;0;128;0;01m\"feature_2_value\"\u001b[39;00m: \u001b[38;2;102;102;102m0.24192907474935055\u001b[39m,\n",
      "        \u001b[38;2;0;128;0;01m\"feature_3_column\"\u001b[39;00m: \u001b[38;2;186;33;33m\"CUSTOMER_SUMMARY_TOTAL_AMOUNT_OF_DEPOSITS\"\u001b[39m,\n",
      "        \u001b[38;2;0;128;0;01m\"feature_3_value\"\u001b[39;00m: \u001b[38;2;102;102;102m0.0013210177421569824\u001b[39m,\n",
      "        \u001b[38;2;0;128;0;01m\"forecast_horizon\"\u001b[39;00m: \u001b[38;2;102;102;102m1\u001b[39m,\n",
      "        \u001b[38;2;0;128;0;01m\"score_code\"\u001b[39;00m: \u001b[38;2;186;33;33m\"ATTRITION\"\u001b[39m,\n",
      "        \u001b[38;2;0;128;0;01m\"score_value\"\u001b[39;00m: \u001b[38;2;102;102;102m0.01\u001b[39m\n",
      "    },\n",
      "    {\n",
      "        \u001b[38;2;0;128;0;01m\"customer_id\"\u001b[39;00m: \u001b[38;2;186;33;33m\"1038\"\u001b[39m,\n",
      "        \u001b[38;2;0;128;0;01m\"effective_date\"\u001b[39;00m: \u001b[38;2;186;33;33m\"2017-12-31\"\u001b[39m,\n",
      "        \u001b[38;2;0;128;0;01m\"feature_1_column\"\u001b[39;00m: \u001b[38;2;186;33;33m\"CUSTOMER_FAMILY_SIZE\"\u001b[39m,\n",
      "        \u001b[38;2;0;128;0;01m\"feature_1_value\"\u001b[39;00m: \u001b[38;2;102;102;102m0.04819009639322758\u001b[39m,\n",
      "        \u001b[38;2;0;128;0;01m\"feature_2_column\"\u001b[39;00m: \u001b[38;2;186;33;33m\"CUSTOMER_NUMBER_OF_DEPENDENT_CHILDREN\"\u001b[39m,\n",
      "        \u001b[38;2;0;128;0;01m\"feature_2_value\"\u001b[39;00m: \u001b[38;2;102;102;102m0.007000500336289406\u001b[39m,\n",
      "        \u001b[38;2;0;128;0;01m\"feature_3_column\"\u001b[39;00m: \u001b[38;2;186;33;33m\"CUSTOMER_SUMMARY_TOTAL_AMOUNT_OF_DEPOSITS\"\u001b[39m,\n",
      "        \u001b[38;2;0;128;0;01m\"feature_3_value\"\u001b[39;00m: \u001b[38;2;102;102;102m0.0003623068332672119\u001b[39m,\n",
      "        \u001b[38;2;0;128;0;01m\"forecast_horizon\"\u001b[39;00m: \u001b[38;2;102;102;102m3\u001b[39m,\n",
      "        \u001b[38;2;0;128;0;01m\"score_code\"\u001b[39;00m: \u001b[38;2;186;33;33m\"ATTRITION\"\u001b[39m,\n",
      "        \u001b[38;2;0;128;0;01m\"score_value\"\u001b[39;00m: \u001b[38;2;102;102;102m0.01\u001b[39m\n",
      "    },\n",
      "    {\n",
      "        \u001b[38;2;0;128;0;01m\"customer_id\"\u001b[39;00m: \u001b[38;2;186;33;33m\"1038\"\u001b[39m,\n",
      "        \u001b[38;2;0;128;0;01m\"effective_date\"\u001b[39;00m: \u001b[38;2;186;33;33m\"2017-12-31\"\u001b[39m,\n",
      "        \u001b[38;2;0;128;0;01m\"feature_1_column\"\u001b[39;00m: \u001b[38;2;186;33;33m\"CUSTOMER_NUMBER_OF_DEPENDENT_CHILDREN\"\u001b[39m,\n",
      "        \u001b[38;2;0;128;0;01m\"feature_1_value\"\u001b[39;00m: \u001b[38;2;102;102;102m0.09435169398784637\u001b[39m,\n",
      "        \u001b[38;2;0;128;0;01m\"feature_2_column\"\u001b[39;00m: \u001b[38;2;186;33;33m\"CUSTOMER_FAMILY_SIZE\"\u001b[39m,\n",
      "        \u001b[38;2;0;128;0;01m\"feature_2_value\"\u001b[39;00m: \u001b[38;2;102;102;102m0.05970703065395355\u001b[39m,\n",
      "        \u001b[38;2;0;128;0;01m\"feature_3_column\"\u001b[39;00m: \u001b[38;2;186;33;33m\"CUSTOMER_URBAN_CODE\"\u001b[39m,\n",
      "        \u001b[38;2;0;128;0;01m\"feature_3_value\"\u001b[39;00m: \u001b[38;2;102;102;102m0.008869379758834839\u001b[39m,\n",
      "        \u001b[38;2;0;128;0;01m\"forecast_horizon\"\u001b[39;00m: \u001b[38;2;102;102;102m6\u001b[39m,\n",
      "        \u001b[38;2;0;128;0;01m\"score_code\"\u001b[39;00m: \u001b[38;2;186;33;33m\"ATTRITION\"\u001b[39m,\n",
      "        \u001b[38;2;0;128;0;01m\"score_value\"\u001b[39;00m: \u001b[38;2;102;102;102m0.16578062\u001b[39m,\n",
      "        \u001b[38;2;0;128;0;01m\"segment_id\"\u001b[39;00m: \u001b[38;2;186;33;33m\"3\"\u001b[39m\n",
      "    }\n",
      "]\n",
      "\n"
     ]
    }
   ],
   "source": [
    "# Get the scores for a specific Customer_ID\n",
    "# Query String parameters; pageSize, page, score_code, effective_date\n",
    "\n",
    "resp_json = []\n",
    "page_size = 500\n",
    "page = 0\n",
    "\n",
    "print(\"Retrieve scores for a specific customer \" + str(customer_id))\n",
    "\n",
    "while True:\n",
    "    scores_url = \"customers/\" + str(customer_id) + \"/scores?page_size=\" + str(page_size) + \"&page=\" + str(page) + \"&score_code=ATTRITION&effective_date=2017-12-31&forecast_horizon=6\"\n",
    "    print(\"GET page \" + str(page) + \" from: \" + base_url + scores_url, end=\"\\r\", flush=True)\n",
    "    scoresGet = requests.get(base_url + scores_url,headers=head)\n",
    "    if scoresGet.json() == [] or scoresGet.status_code != 200 : break\n",
    "    page = page + 1\n",
    "    resp_json = resp_json + scoresGet.json()\n",
    "\n",
    "if scoresGet.status_code != 200:\n",
    "    print('\\nAn error occured getting scores')\n",
    "    print('scoreGet Status Code: ' + str(scoresGet.status_code))\n",
    "    print(scoresGet.text)\n",
    "    \n",
    "dfscores = json_normalize(resp_json)\n",
    "json_str = json.dumps(resp_json, indent=4, sort_keys=True)\n",
    "print(\"\\n\")\n",
    "print(highlight(json_str, JsonLexer(), TerminalTrueColorFormatter()))"
   ]
  },
  {
   "cell_type": "code",
   "execution_count": 11,
   "metadata": {},
   "outputs": [
    {
     "name": "stdout",
     "output_type": "stream",
     "text": [
      "Focussing on the information, we see the score_code is ATTRITION.\n",
      "This indicates that the associated score_value of 0.01 is the likelihood of client 1038\n",
      "choosing to leave within the next 1 months, as shown in the forecast_horizon.\n"
     ]
    }
   ],
   "source": [
    "print(\"Focussing on the information, we see the score_code is {sc}.\".format(sc = dfscores.score_code[0]))\n",
    "print(\"This indicates that the associated score_value of {sv} is the likelihood of client {id}\".format(sv = dfscores.score_value[0],\n",
    "                                                                                                       id = dfscores.customer_id[0]))\n",
    "print(\"choosing to leave within the next {fh} months, as shown in the forecast_horizon.\".format(fh = dfscores.forecast_horizon[0]))"
   ]
  },
  {
   "cell_type": "markdown",
   "metadata": {},
   "source": [
    "One of the common questions advisors ask is \"Why is the likelihood at this level?\"  To answer that question, we look at the three main factors (or features) that impact the likelihood for this particular client."
   ]
  },
  {
   "cell_type": "code",
   "execution_count": 12,
   "metadata": {},
   "outputs": [
    {
     "name": "stdout",
     "output_type": "stream",
     "text": [
      "We can also see the drivers behind this assessment: \n",
      "  CUSTOMER_FAMILY_SIZE \n",
      "  CUSTOMER_NUMBER_OF_DEPENDENT_CHILDREN \n",
      "  CUSTOMER_SUMMARY_TOTAL_AMOUNT_OF_DEPOSITS\n"
     ]
    }
   ],
   "source": [
    "print(\"We can also see the drivers behind this assessment: \\n  {f1} \\n  {f2} \\n  {f3}\".format(f1 = dfscores.feature_1_column[0],\n",
    "                                                                                              f2 = dfscores.feature_2_column[0],\n",
    "                                                                                              f3 = dfscores.feature_3_column[0]))"
   ]
  },
  {
   "cell_type": "markdown",
   "metadata": {},
   "source": [
    "It is important that our results are explainable so that advisors find them credible, but also so that they can better understand the drivers of attrition in order to best determine how to respond.  In this case, we see that the Anderson family’s relatively high total assets under management, classification in the “Expatriate Executives” market group, and family size are all characteristics of similar high-risk clients who have departed in the past. \n",
    "\n",
    "In preparation for this meeting Bruce is going to want to be sure he has a tight story around his value proposition for higher-net worth clients relative to his competitors, be able to explain how he can best meet the specialized needs of globe-trotting executives and ensure that he is demonstrating how his advice and services incorporate the needs of Alex’s spouse and children. Although Bruce’s primary relationship has been with Alex in the past, he makes a note that Jane is likely to be an important influencer on any decision to remain with Bruce’s practice.\n"
   ]
  },
  {
   "cell_type": "markdown",
   "metadata": {},
   "source": [
    "<a id='clep'></a>\n",
    "### Retrieve Relevant Life Events\n",
    "\n",
    "Armed with this information, let’s make good on that promise to address the Anderson family’s specific needs and actually deliver on value that helps deflect the possibility of attrition at this crucial time in the relationship. It’s time to examine any potential “money in motion” life events that might influence financial planning topics for the upcoming meeting or affect the timing of advice and recommendations to the Anderson family.\n",
    "\n",
    "<a href='#profile'> Back to the Client Profile </a>\n",
    "\n",
    "<a href='#top'> Back to the top </a>"
   ]
  },
  {
   "cell_type": "code",
   "execution_count": 13,
   "metadata": {
    "scrolled": false
   },
   "outputs": [
    {
     "name": "stdout",
     "output_type": "stream",
     "text": [
      "Retrieve customer's event score data for customer  1038\n",
      "GET page 1 from: https://ci-api.mybluemix.net/api/v2/wealth/customers/1038/event_scores?page_size=500&page=1&effective_date=2017-12-31\n",
      "\n",
      "[\n",
      "    {\n",
      "        \u001b[38;2;0;128;0;01m\"customer_id\"\u001b[39;00m: \u001b[38;2;186;33;33m\"1038\"\u001b[39m,\n",
      "        \u001b[38;2;0;128;0;01m\"effective_date\"\u001b[39;00m: \u001b[38;2;186;33;33m\"2017-12-31\"\u001b[39m,\n",
      "        \u001b[38;2;0;128;0;01m\"event_type_id\"\u001b[39;00m: \u001b[38;2;186;33;33m\"LFE_HOME_PURCHASE\"\u001b[39m,\n",
      "        \u001b[38;2;0;128;0;01m\"forecast_horizon\"\u001b[39;00m: \u001b[38;2;102;102;102m3\u001b[39m,\n",
      "        \u001b[38;2;0;128;0;01m\"score_code\"\u001b[39;00m: \u001b[38;2;186;33;33m\"LIFE_EVENT_PREDICT\"\u001b[39m,\n",
      "        \u001b[38;2;0;128;0;01m\"score_value\"\u001b[39;00m: \u001b[38;2;102;102;102m0.003092783505154639\u001b[39m\n",
      "    },\n",
      "    {\n",
      "        \u001b[38;2;0;128;0;01m\"customer_id\"\u001b[39;00m: \u001b[38;2;186;33;33m\"1038\"\u001b[39m,\n",
      "        \u001b[38;2;0;128;0;01m\"effective_date\"\u001b[39;00m: \u001b[38;2;186;33;33m\"2017-12-31\"\u001b[39m,\n",
      "        \u001b[38;2;0;128;0;01m\"event_type_id\"\u001b[39;00m: \u001b[38;2;186;33;33m\"LFE_RELOCATION\"\u001b[39m,\n",
      "        \u001b[38;2;0;128;0;01m\"forecast_horizon\"\u001b[39;00m: \u001b[38;2;102;102;102m3\u001b[39m,\n",
      "        \u001b[38;2;0;128;0;01m\"score_code\"\u001b[39;00m: \u001b[38;2;186;33;33m\"LIFE_EVENT_PREDICT\"\u001b[39m,\n",
      "        \u001b[38;2;0;128;0;01m\"score_value\"\u001b[39;00m: \u001b[38;2;102;102;102m0.007699711260827719\u001b[39m\n",
      "    }\n",
      "]\n",
      "\n"
     ]
    }
   ],
   "source": [
    "# Get the scores from the trained model and scored customers\n",
    "# This will return a json document of customers and their scores for all the predictied life events that we scored\n",
    "# Query String parameters; pageSize, page, score_code, effective_date\n",
    "\n",
    "print(\"Retrieve customer's event score data for customer \", customer_id)\n",
    "\n",
    "resp_json = []\n",
    "page_size = 500\n",
    "page = 0\n",
    "\n",
    "while True:\n",
    "    scores_url = \"customers/\" + str(customer_id) + \"/event_scores?page_size=\" + str(page_size) + \"&page=\" + str(page) + \"&effective_date=2017-12-31\"\n",
    "    print(\"GET page \" + str(page) + \" from: \" + base_url + scores_url, end=\"\\r\", flush=True)\n",
    "    scoresGet = requests.get(base_url + scores_url,headers=head)\n",
    "    if scoresGet.json() == [] or scoresGet.status_code != 200 : break\n",
    "    page = page + 1\n",
    "    resp_json = resp_json + scoresGet.json()\n",
    "    \n",
    "if scoresGet.status_code != 200:\n",
    "    print('\\nAn error occured getting scores')\n",
    "    print('scoreGet Status Code: ' + str(scoresGet.status_code))\n",
    "    print(scoresGet.text)\n",
    "\n",
    "dflep = json_normalize(resp_json)\n",
    "json_str = json.dumps(resp_json, indent=4, sort_keys=True)\n",
    "print(\"\\n\")\n",
    "print(highlight(json_str, JsonLexer(), TerminalTrueColorFormatter()))"
   ]
  },
  {
   "cell_type": "markdown",
   "metadata": {},
   "source": [
    "Given the Anderson’s pattern of financial transactions, engagement, and other behavior leading up to the current day, we see that Client Insight is predicting both a high probability of a relocation life event and a new home purchase within the next 3 months. Had Bruce not been forewarned and given time to appropriately prepare in advance, he might otherwise have been surprised to learn that the Andersons were still struggling to sell their erstwhile apartment overseas and were living in temporary corporate housing while they search for a new home locally.\n",
    "\n",
    "\n",
    "Instead, Bruce will enter into that meeting ready to discuss how he can help meet the Andersons’ home financing and short-term liquidity needs with a non-purpose loan that will allow them to close on a new home without having to liquidate securities to raise cash while they are still waiting for their old apartment to sell. This may also make it even less likely that they might transfer their assets to a competing firm, not only because he is able to solve their financial problem elegantly, but because those assets will be used to collateralize the loan. Bruce will be sure to have at the ready the names of his three favorite Real Estate Agents in the Yellowknife area, and the inside scoop on the best and rising school districts.\n"
   ]
  },
  {
   "cell_type": "markdown",
   "metadata": {},
   "source": [
    "<a id='segdef'></a>\n",
    "### Examine the Client's Segment\n",
    "\n",
    "Finally, let’s look at how the Alex Anderson fits into Bruce’s overall book of business by examining his similarity to Bruce’s other clients. This can be significant because Bruce may wish to prospect for clients similar to his existing ones, or may wish to market to or service different client segments in a more tailored and customized manner specialized to the needs of each segment. \n",
    "\n",
    "<a href='#profile'> Back to the Client Profile </a>\n",
    "\n",
    "<a href='#top'> Back to the top </a>"
   ]
  },
  {
   "cell_type": "code",
   "execution_count": 16,
   "metadata": {
    "scrolled": true
   },
   "outputs": [
    {
     "name": "stdout",
     "output_type": "stream",
     "text": [
      "Retrieve segmentation score data\n",
      "GET page 1 from: https://ci-api.mybluemix.net/api/v2/wealth/customers/1038/scores?page_size=500&page=1&score_code=DYNAMIC_SEGMENTATION&effective_date=2017-08-01\n",
      "\n",
      "[\n",
      "    {\n",
      "        \u001b[38;2;0;128;0;01m\"customer_id\"\u001b[39;00m: \u001b[38;2;186;33;33m\"1038\"\u001b[39m,\n",
      "        \u001b[38;2;0;128;0;01m\"effective_date\"\u001b[39;00m: \u001b[38;2;186;33;33m\"2017-08-01\"\u001b[39m,\n",
      "        \u001b[38;2;0;128;0;01m\"forecast_horizon\"\u001b[39;00m: \u001b[38;2;102;102;102m0\u001b[39m,\n",
      "        \u001b[38;2;0;128;0;01m\"score_code\"\u001b[39;00m: \u001b[38;2;186;33;33m\"DYNAMIC_SEGMENTATION\"\u001b[39m,\n",
      "        \u001b[38;2;0;128;0;01m\"segment_id\"\u001b[39;00m: \u001b[38;2;186;33;33m\"9\"\u001b[39m\n",
      "    }\n",
      "]\n",
      "\n"
     ]
    }
   ],
   "source": [
    "# Get the scores from the trained model and scored customers\n",
    "# This will return a json document of customers and their scores for the attrition model that we scored\n",
    "# Query String parameters; pageSize, page, score_code, effective_date\n",
    "\n",
    "print(\"Retrieve segmentation score data\")\n",
    "\n",
    "resp_json = []\n",
    "page = 0\n",
    "\n",
    "while True:\n",
    "    seg_url = \"customers/\" + str(customer_id) + \"/scores?page_size=\" + str(page_size) + \"&page=\" + str(page) + \"&score_code=DYNAMIC_SEGMENTATION&effective_date=2017-08-01\"\n",
    "    print(\"GET page \" +str(page) + \" from: \" + base_url + seg_url, end=\"\\r\", flush=True)\n",
    "    scoresGet = requests.get(base_url + seg_url,headers=head)\n",
    "    if scoresGet.json() == [] or scoresGet.status_code != 200 : break\n",
    "    page = page + 1\n",
    "    resp_json = resp_json + scoresGet.json()\n",
    "    \n",
    "if scoresGet.status_code != 200:\n",
    "    print('An error occured getting scores')\n",
    "    print('scoreGet Status Code: ' + str(scoresGet.status_code))\n",
    "    print(scoresGet.text)\n",
    "    \n",
    "dfseg = json_normalize(resp_json)\n",
    "json_str = json.dumps(resp_json, indent=4, sort_keys=True)\n",
    "print(\"\\n\")\n",
    "print(highlight(json_str, JsonLexer(), TerminalTrueColorFormatter()))"
   ]
  },
  {
   "cell_type": "code",
   "execution_count": 18,
   "metadata": {},
   "outputs": [
    {
     "name": "stdout",
     "output_type": "stream",
     "text": [
      "Retrieve the attributes that define the segments\n",
      "Scores based on query string parameters have been returnedh/segments?page_size=500&page=1&score_code=DYNAMIC_SEGMENTATION&effective_date=2017-08-01\n",
      "Number of records: 50\n"
     ]
    }
   ],
   "source": [
    "# Get the segment descriptions (which attributes define the segment) from the trained model\n",
    "# This will return a json document of segments and their descriptions\n",
    "# Query String parameters; pageSize, page, score_code, effective_date\n",
    "\n",
    "print(\"Retrieve the attributes that define the segments\")\n",
    "\n",
    "resp_json = []\n",
    "page = 0\n",
    "\n",
    "while True:\n",
    "    seg_url = \"segments?page_size=\" + str(page_size) + \"&page=\" + str(page) + \"&score_code=DYNAMIC_SEGMENTATION&effective_date=2017-08-01\"\n",
    "    print(\"GET page \" + str(page) + \" from: \" + base_url + seg_url, end=\"\\r\", flush=True)\n",
    "    scoresGet = requests.get(base_url + seg_url,headers=head)\n",
    "    if scoresGet.json() == [] or scoresGet.status_code != 200 : break\n",
    "    page = page + 1\n",
    "    resp_json = resp_json + scoresGet.json()\n",
    "    \n",
    "if scoresGet.status_code == 200:\n",
    "    print('Scores based on query string parameters have been returned')\n",
    "    print('Number of records: ' + str(len(resp_json)))\n",
    "else:\n",
    "    print('An error occured getting scores')\n",
    "    print('scoreGet Status Code: ' + str(scoresGet.status_code))\n",
    "    print(scoresGet.text)\n",
    "    \n",
    "dfsegdesc = json_normalize(resp_json).sort_values(['segment_id','rank'], ascending=True)\n",
    "dfsegdesc = dfsegdesc[['segment_id', 'rank', 'column_name', 'max_value', 'min_value']]\n",
    "#json_str = json.dumps(resp_json, indent=4, sort_keys=True)\n",
    "#print(highlight(json_str, JsonLexer(), TerminalTrueColorFormatter()))"
   ]
  },
  {
   "cell_type": "code",
   "execution_count": 19,
   "metadata": {},
   "outputs": [
    {
     "name": "stdout",
     "output_type": "stream",
     "text": [
      "   segment_id  rank                                 column_name  max_value  \\\n",
      "15          9     1                    CUSTOMER_AGE_RANGE_index        3.0   \n",
      "16          9     2              CUSTOMER_EDUCATION_LEVEL_index        4.0   \n",
      "17          9     3               CUSTOMER_MARITAL_STATUS_index        2.0   \n",
      "18          9     4       CUSTOMER_NUMBER_OF_DEPENDENT_CHILDREN        2.0   \n",
      "19          9     5  CUSTOMER_SUMMARY_NUMBER_OF_ACTIVE_ACCOUNTS        4.0   \n",
      "\n",
      "    min_value  \n",
      "15        0.0  \n",
      "16        0.0  \n",
      "17        0.0  \n",
      "18        0.0  \n",
      "19        1.0  \n"
     ]
    }
   ],
   "source": [
    "print(dfsegdesc.loc[dfsegdesc.segment_id==dfseg.segment_id[0]])"
   ]
  },
  {
   "cell_type": "markdown",
   "metadata": {},
   "source": [
    "In the above analysis of client with ID 5967, we see that this client belongs to a segment where age is the most important characteristic, followed by shared elements such as:  no more than 2 children, up to 4 active accounts and one or fewer buy/sell trades.  Clearly, within this segment, a discount targeted to active traders would be inappropriate or useless.  \n",
    "\n",
    "In contrast, Bruce probably has other clients like Alex in this segment for whom the financial well-being of the family is of paramount importance. For this segment, Bruce may want to consider campaigns or events targeted around topics like life insurance, college savings, or generational wealth transfer. Bruce makes a note to mine this segment for opportunities to deepen his relationships with these."
   ]
  },
  {
   "cell_type": "markdown",
   "metadata": {},
   "source": [
    "## Summary"
   ]
  },
  {
   "cell_type": "markdown",
   "metadata": {},
   "source": [
    "You successfully completed this notebook! You have seen the types of results and information available in Client Insights for Wealth Management to assist advisors in preparing for an upcoming meeting with an existing client."
   ]
  },
  {
   "cell_type": "markdown",
   "metadata": {},
   "source": [
    "### Authors"
   ]
  },
  {
   "cell_type": "markdown",
   "metadata": {},
   "source": [
    "**Robert Stanich**, Offering Manager, Client Insights, Watson FSS - <robert.stanich@us.ibm.com>.\n",
    "\n",
    "**Diane Reynolds**, Chief Data Scientist, Client Insights, Watson FSS - <diane.reynolds@ca.ibm.com>."
   ]
  },
  {
   "cell_type": "markdown",
   "metadata": {},
   "source": [
    "\n",
    "<hr>\n",
    "Copyright © 2018 IBM. This notebook and its source code are released under the terms of the MIT License."
   ]
  },
  {
   "cell_type": "markdown",
   "metadata": {},
   "source": [
    "<div style=\"background:#F5F7FA; height:110px; padding: 2em; font-size:14px;\">\n",
    "<span style=\"font-size:18px;color:#152935;\">Love this notebook? </span>\n",
    "<span style=\"font-size:15px;color:#152935;float:right;margin-right:40px;\">Don't have an account yet?</span><br>\n",
    "<span style=\"color:#5A6872;\">Share it with your colleagues and help them discover the power of Watson Studio!</span>\n",
    "<span style=\"border: 1px solid #3d70b2;padding:8px;float:right;margin-right:40px; color:#3d70b2;\"><a href=\"https://ibm.co/wsnotebooks\" target=\"_blank\" style=\"color: #3d70b2;text-decoration: none;\">Sign Up</a></span><br>\n",
    "</div>"
   ]
  }
 ],
 "metadata": {
  "kernelspec": {
   "display_name": "Python 3",
   "language": "python",
   "name": "python3"
  },
  "language_info": {
   "codemirror_mode": {
    "name": "ipython",
    "version": 3
   },
   "file_extension": ".py",
   "mimetype": "text/x-python",
   "name": "python",
   "nbconvert_exporter": "python",
   "pygments_lexer": "ipython3",
   "version": "3.7.0"
  }
 },
 "nbformat": 4,
 "nbformat_minor": 1
}
